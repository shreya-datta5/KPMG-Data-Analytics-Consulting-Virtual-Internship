{
 "cells": [
  {
   "cell_type": "code",
   "execution_count": 2,
   "id": "5c3c501a",
   "metadata": {},
   "outputs": [],
   "source": [
    "# importing libraries\n",
    "import os\n",
    "import numpy as np\n",
    "import scipy.stats as stats\n",
    "import pandas as pd\n",
    "import matplotlib.pyplot as plt\n",
    "import seaborn as sns\n",
    "import math\n",
    "import datetime as dt\n",
    "%matplotlib inline"
   ]
  },
  {
   "cell_type": "code",
   "execution_count": 143,
   "id": "820e6ad6",
   "metadata": {},
   "outputs": [],
   "source": [
    "# reading all the cleaned csv files\n",
    "df1 = pd.read_csv(\"D:/KPMG virtual intership/Task1_DataQualityAssessment/CustomerDemographic_cleaned.csv\")\n",
    "df2 = pd.read_csv(\"D:/KPMG virtual intership/Task1_DataQualityAssessment/CustomerAddress_cleaned.csv\")\n",
    "df3 = pd.read_csv(\"D:/KPMG virtual intership/Task1_DataQualityAssessment/Transactions_cleaned.csv\")\n",
    "df4 = pd.read_csv(\"D:/KPMG virtual intership/Task1_DataQualityAssessment/NewCustomerList_cleaned.csv\")"
   ]
  },
  {
   "cell_type": "code",
   "execution_count": 75,
   "id": "0f6d116d",
   "metadata": {},
   "outputs": [],
   "source": [
    "# merging all the files in the list based on customer id\n",
    "\n",
    "df12 = pd.merge(df1, df2, on=[\"customer_id\"], how=\"inner\")\n",
    "df123 = pd.merge(df12, df3, on=[\"customer_id\"], how=\"inner\")"
   ]
  },
  {
   "cell_type": "code",
   "execution_count": 76,
   "id": "81e82214",
   "metadata": {},
   "outputs": [],
   "source": [
    "# exporting the csv\n",
    "df123.to_csv(\"D:/KPMG virtual intership/Task1_DataQualityAssessment/merged_data.csv\", index=False, encoding='utf-8-sig')"
   ]
  },
  {
   "cell_type": "code",
   "execution_count": 77,
   "id": "aa92d12f",
   "metadata": {},
   "outputs": [],
   "source": [
    "# sorting the data by customer id\n",
    "df = df123.sort_values(by = [\"customer_id\"])"
   ]
  },
  {
   "cell_type": "code",
   "execution_count": 78,
   "id": "ea2c776e",
   "metadata": {
    "scrolled": true
   },
   "outputs": [
    {
     "data": {
      "text/html": [
       "<div>\n",
       "<style scoped>\n",
       "    .dataframe tbody tr th:only-of-type {\n",
       "        vertical-align: middle;\n",
       "    }\n",
       "\n",
       "    .dataframe tbody tr th {\n",
       "        vertical-align: top;\n",
       "    }\n",
       "\n",
       "    .dataframe thead th {\n",
       "        text-align: right;\n",
       "    }\n",
       "</style>\n",
       "<table border=\"1\" class=\"dataframe\">\n",
       "  <thead>\n",
       "    <tr style=\"text-align: right;\">\n",
       "      <th></th>\n",
       "      <th>customer_id</th>\n",
       "      <th>first_name</th>\n",
       "      <th>last_name</th>\n",
       "      <th>gender</th>\n",
       "      <th>past_3_years_bike_related_purchases</th>\n",
       "      <th>dob</th>\n",
       "      <th>job_title</th>\n",
       "      <th>job_industry_category</th>\n",
       "      <th>wealth_segment</th>\n",
       "      <th>deceased_indicator</th>\n",
       "      <th>...</th>\n",
       "      <th>transaction_date</th>\n",
       "      <th>online_order</th>\n",
       "      <th>order_status</th>\n",
       "      <th>brand</th>\n",
       "      <th>product_line</th>\n",
       "      <th>product_class</th>\n",
       "      <th>product_size</th>\n",
       "      <th>list_price</th>\n",
       "      <th>standard_cost</th>\n",
       "      <th>product_first_sold_date</th>\n",
       "    </tr>\n",
       "  </thead>\n",
       "  <tbody>\n",
       "    <tr>\n",
       "      <th>0</th>\n",
       "      <td>1</td>\n",
       "      <td>Laraine</td>\n",
       "      <td>Medendorp</td>\n",
       "      <td>Female</td>\n",
       "      <td>93</td>\n",
       "      <td>1953-10-12</td>\n",
       "      <td>Executive Secretary</td>\n",
       "      <td>Health</td>\n",
       "      <td>Mass Customer</td>\n",
       "      <td>False</td>\n",
       "      <td>...</td>\n",
       "      <td>2017-01-05</td>\n",
       "      <td>0.0</td>\n",
       "      <td>Approved</td>\n",
       "      <td>Norco Bicycles</td>\n",
       "      <td>Standard</td>\n",
       "      <td>medium</td>\n",
       "      <td>medium</td>\n",
       "      <td>360.40</td>\n",
       "      <td>270.30</td>\n",
       "      <td>37873.0</td>\n",
       "    </tr>\n",
       "    <tr>\n",
       "      <th>10</th>\n",
       "      <td>1</td>\n",
       "      <td>Laraine</td>\n",
       "      <td>Medendorp</td>\n",
       "      <td>Female</td>\n",
       "      <td>93</td>\n",
       "      <td>1953-10-12</td>\n",
       "      <td>Executive Secretary</td>\n",
       "      <td>Health</td>\n",
       "      <td>Mass Customer</td>\n",
       "      <td>False</td>\n",
       "      <td>...</td>\n",
       "      <td>2017-12-23</td>\n",
       "      <td>0.0</td>\n",
       "      <td>Approved</td>\n",
       "      <td>OHM Cycles</td>\n",
       "      <td>Standard</td>\n",
       "      <td>medium</td>\n",
       "      <td>medium</td>\n",
       "      <td>235.63</td>\n",
       "      <td>125.07</td>\n",
       "      <td>38482.0</td>\n",
       "    </tr>\n",
       "    <tr>\n",
       "      <th>8</th>\n",
       "      <td>1</td>\n",
       "      <td>Laraine</td>\n",
       "      <td>Medendorp</td>\n",
       "      <td>Female</td>\n",
       "      <td>93</td>\n",
       "      <td>1953-10-12</td>\n",
       "      <td>Executive Secretary</td>\n",
       "      <td>Health</td>\n",
       "      <td>Mass Customer</td>\n",
       "      <td>False</td>\n",
       "      <td>...</td>\n",
       "      <td>2017-12-09</td>\n",
       "      <td>1.0</td>\n",
       "      <td>Approved</td>\n",
       "      <td>OHM Cycles</td>\n",
       "      <td>Road</td>\n",
       "      <td>medium</td>\n",
       "      <td>medium</td>\n",
       "      <td>742.54</td>\n",
       "      <td>667.40</td>\n",
       "      <td>37838.0</td>\n",
       "    </tr>\n",
       "    <tr>\n",
       "      <th>7</th>\n",
       "      <td>1</td>\n",
       "      <td>Laraine</td>\n",
       "      <td>Medendorp</td>\n",
       "      <td>Female</td>\n",
       "      <td>93</td>\n",
       "      <td>1953-10-12</td>\n",
       "      <td>Executive Secretary</td>\n",
       "      <td>Health</td>\n",
       "      <td>Mass Customer</td>\n",
       "      <td>False</td>\n",
       "      <td>...</td>\n",
       "      <td>2017-06-04</td>\n",
       "      <td>1.0</td>\n",
       "      <td>Approved</td>\n",
       "      <td>Giant Bicycles</td>\n",
       "      <td>Standard</td>\n",
       "      <td>medium</td>\n",
       "      <td>medium</td>\n",
       "      <td>642.70</td>\n",
       "      <td>211.37</td>\n",
       "      <td>40618.0</td>\n",
       "    </tr>\n",
       "    <tr>\n",
       "      <th>6</th>\n",
       "      <td>1</td>\n",
       "      <td>Laraine</td>\n",
       "      <td>Medendorp</td>\n",
       "      <td>Female</td>\n",
       "      <td>93</td>\n",
       "      <td>1953-10-12</td>\n",
       "      <td>Executive Secretary</td>\n",
       "      <td>Health</td>\n",
       "      <td>Mass Customer</td>\n",
       "      <td>False</td>\n",
       "      <td>...</td>\n",
       "      <td>2017-05-19</td>\n",
       "      <td>0.0</td>\n",
       "      <td>Approved</td>\n",
       "      <td>Giant Bicycles</td>\n",
       "      <td>Road</td>\n",
       "      <td>medium</td>\n",
       "      <td>medium</td>\n",
       "      <td>1538.99</td>\n",
       "      <td>829.65</td>\n",
       "      <td>33552.0</td>\n",
       "    </tr>\n",
       "    <tr>\n",
       "      <th>...</th>\n",
       "      <td>...</td>\n",
       "      <td>...</td>\n",
       "      <td>...</td>\n",
       "      <td>...</td>\n",
       "      <td>...</td>\n",
       "      <td>...</td>\n",
       "      <td>...</td>\n",
       "      <td>...</td>\n",
       "      <td>...</td>\n",
       "      <td>...</td>\n",
       "      <td>...</td>\n",
       "      <td>...</td>\n",
       "      <td>...</td>\n",
       "      <td>...</td>\n",
       "      <td>...</td>\n",
       "      <td>...</td>\n",
       "      <td>...</td>\n",
       "      <td>...</td>\n",
       "      <td>...</td>\n",
       "      <td>...</td>\n",
       "      <td>...</td>\n",
       "    </tr>\n",
       "    <tr>\n",
       "      <th>19964</th>\n",
       "      <td>3500</td>\n",
       "      <td>Josy</td>\n",
       "      <td>Fleeman</td>\n",
       "      <td>Female</td>\n",
       "      <td>71</td>\n",
       "      <td>1967-07-21</td>\n",
       "      <td>Operator</td>\n",
       "      <td>Entertainment</td>\n",
       "      <td>Affluent Customer</td>\n",
       "      <td>False</td>\n",
       "      <td>...</td>\n",
       "      <td>2017-02-16</td>\n",
       "      <td>0.0</td>\n",
       "      <td>Approved</td>\n",
       "      <td>WeareA2B</td>\n",
       "      <td>Standard</td>\n",
       "      <td>medium</td>\n",
       "      <td>medium</td>\n",
       "      <td>1228.07</td>\n",
       "      <td>400.91</td>\n",
       "      <td>36668.0</td>\n",
       "    </tr>\n",
       "    <tr>\n",
       "      <th>19966</th>\n",
       "      <td>3500</td>\n",
       "      <td>Josy</td>\n",
       "      <td>Fleeman</td>\n",
       "      <td>Female</td>\n",
       "      <td>71</td>\n",
       "      <td>1967-07-21</td>\n",
       "      <td>Operator</td>\n",
       "      <td>Entertainment</td>\n",
       "      <td>Affluent Customer</td>\n",
       "      <td>False</td>\n",
       "      <td>...</td>\n",
       "      <td>2017-04-25</td>\n",
       "      <td>0.0</td>\n",
       "      <td>Approved</td>\n",
       "      <td>Solex</td>\n",
       "      <td>Standard</td>\n",
       "      <td>medium</td>\n",
       "      <td>medium</td>\n",
       "      <td>71.49</td>\n",
       "      <td>53.62</td>\n",
       "      <td>41245.0</td>\n",
       "    </tr>\n",
       "    <tr>\n",
       "      <th>19962</th>\n",
       "      <td>3500</td>\n",
       "      <td>Josy</td>\n",
       "      <td>Fleeman</td>\n",
       "      <td>Female</td>\n",
       "      <td>71</td>\n",
       "      <td>1967-07-21</td>\n",
       "      <td>Operator</td>\n",
       "      <td>Entertainment</td>\n",
       "      <td>Affluent Customer</td>\n",
       "      <td>False</td>\n",
       "      <td>...</td>\n",
       "      <td>2017-01-09</td>\n",
       "      <td>1.0</td>\n",
       "      <td>Approved</td>\n",
       "      <td>Giant Bicycles</td>\n",
       "      <td>Road</td>\n",
       "      <td>medium</td>\n",
       "      <td>medium</td>\n",
       "      <td>792.90</td>\n",
       "      <td>594.68</td>\n",
       "      <td>33879.0</td>\n",
       "    </tr>\n",
       "    <tr>\n",
       "      <th>19963</th>\n",
       "      <td>3500</td>\n",
       "      <td>Josy</td>\n",
       "      <td>Fleeman</td>\n",
       "      <td>Female</td>\n",
       "      <td>71</td>\n",
       "      <td>1967-07-21</td>\n",
       "      <td>Operator</td>\n",
       "      <td>Entertainment</td>\n",
       "      <td>Affluent Customer</td>\n",
       "      <td>False</td>\n",
       "      <td>...</td>\n",
       "      <td>2017-01-11</td>\n",
       "      <td>0.0</td>\n",
       "      <td>Approved</td>\n",
       "      <td>WeareA2B</td>\n",
       "      <td>Standard</td>\n",
       "      <td>medium</td>\n",
       "      <td>medium</td>\n",
       "      <td>60.34</td>\n",
       "      <td>45.26</td>\n",
       "      <td>34165.0</td>\n",
       "    </tr>\n",
       "    <tr>\n",
       "      <th>19967</th>\n",
       "      <td>3500</td>\n",
       "      <td>Josy</td>\n",
       "      <td>Fleeman</td>\n",
       "      <td>Female</td>\n",
       "      <td>71</td>\n",
       "      <td>1967-07-21</td>\n",
       "      <td>Operator</td>\n",
       "      <td>Entertainment</td>\n",
       "      <td>Affluent Customer</td>\n",
       "      <td>False</td>\n",
       "      <td>...</td>\n",
       "      <td>2017-08-08</td>\n",
       "      <td>0.0</td>\n",
       "      <td>Approved</td>\n",
       "      <td>Giant Bicycles</td>\n",
       "      <td>Standard</td>\n",
       "      <td>medium</td>\n",
       "      <td>small</td>\n",
       "      <td>1311.44</td>\n",
       "      <td>1167.18</td>\n",
       "      <td>33888.0</td>\n",
       "    </tr>\n",
       "  </tbody>\n",
       "</table>\n",
       "<p>19968 rows × 29 columns</p>\n",
       "</div>"
      ],
      "text/plain": [
       "       customer_id first_name  last_name  gender  \\\n",
       "0                1    Laraine  Medendorp  Female   \n",
       "10               1    Laraine  Medendorp  Female   \n",
       "8                1    Laraine  Medendorp  Female   \n",
       "7                1    Laraine  Medendorp  Female   \n",
       "6                1    Laraine  Medendorp  Female   \n",
       "...            ...        ...        ...     ...   \n",
       "19964         3500       Josy    Fleeman  Female   \n",
       "19966         3500       Josy    Fleeman  Female   \n",
       "19962         3500       Josy    Fleeman  Female   \n",
       "19963         3500       Josy    Fleeman  Female   \n",
       "19967         3500       Josy    Fleeman  Female   \n",
       "\n",
       "       past_3_years_bike_related_purchases         dob            job_title  \\\n",
       "0                                       93  1953-10-12  Executive Secretary   \n",
       "10                                      93  1953-10-12  Executive Secretary   \n",
       "8                                       93  1953-10-12  Executive Secretary   \n",
       "7                                       93  1953-10-12  Executive Secretary   \n",
       "6                                       93  1953-10-12  Executive Secretary   \n",
       "...                                    ...         ...                  ...   \n",
       "19964                                   71  1967-07-21             Operator   \n",
       "19966                                   71  1967-07-21             Operator   \n",
       "19962                                   71  1967-07-21             Operator   \n",
       "19963                                   71  1967-07-21             Operator   \n",
       "19967                                   71  1967-07-21             Operator   \n",
       "\n",
       "      job_industry_category     wealth_segment  deceased_indicator  ...  \\\n",
       "0                    Health      Mass Customer               False  ...   \n",
       "10                   Health      Mass Customer               False  ...   \n",
       "8                    Health      Mass Customer               False  ...   \n",
       "7                    Health      Mass Customer               False  ...   \n",
       "6                    Health      Mass Customer               False  ...   \n",
       "...                     ...                ...                 ...  ...   \n",
       "19964         Entertainment  Affluent Customer               False  ...   \n",
       "19966         Entertainment  Affluent Customer               False  ...   \n",
       "19962         Entertainment  Affluent Customer               False  ...   \n",
       "19963         Entertainment  Affluent Customer               False  ...   \n",
       "19967         Entertainment  Affluent Customer               False  ...   \n",
       "\n",
       "       transaction_date  online_order order_status           brand  \\\n",
       "0            2017-01-05           0.0     Approved  Norco Bicycles   \n",
       "10           2017-12-23           0.0     Approved      OHM Cycles   \n",
       "8            2017-12-09           1.0     Approved      OHM Cycles   \n",
       "7            2017-06-04           1.0     Approved  Giant Bicycles   \n",
       "6            2017-05-19           0.0     Approved  Giant Bicycles   \n",
       "...                 ...           ...          ...             ...   \n",
       "19964        2017-02-16           0.0     Approved        WeareA2B   \n",
       "19966        2017-04-25           0.0     Approved           Solex   \n",
       "19962        2017-01-09           1.0     Approved  Giant Bicycles   \n",
       "19963        2017-01-11           0.0     Approved        WeareA2B   \n",
       "19967        2017-08-08           0.0     Approved  Giant Bicycles   \n",
       "\n",
       "      product_line product_class  product_size  list_price  standard_cost  \\\n",
       "0         Standard        medium        medium      360.40         270.30   \n",
       "10        Standard        medium        medium      235.63         125.07   \n",
       "8             Road        medium        medium      742.54         667.40   \n",
       "7         Standard        medium        medium      642.70         211.37   \n",
       "6             Road        medium        medium     1538.99         829.65   \n",
       "...            ...           ...           ...         ...            ...   \n",
       "19964     Standard        medium        medium     1228.07         400.91   \n",
       "19966     Standard        medium        medium       71.49          53.62   \n",
       "19962         Road        medium        medium      792.90         594.68   \n",
       "19963     Standard        medium        medium       60.34          45.26   \n",
       "19967     Standard        medium         small     1311.44        1167.18   \n",
       "\n",
       "      product_first_sold_date  \n",
       "0                     37873.0  \n",
       "10                    38482.0  \n",
       "8                     37838.0  \n",
       "7                     40618.0  \n",
       "6                     33552.0  \n",
       "...                       ...  \n",
       "19964                 36668.0  \n",
       "19966                 41245.0  \n",
       "19962                 33879.0  \n",
       "19963                 34165.0  \n",
       "19967                 33888.0  \n",
       "\n",
       "[19968 rows x 29 columns]"
      ]
     },
     "execution_count": 78,
     "metadata": {},
     "output_type": "execute_result"
    }
   ],
   "source": [
    "df"
   ]
  },
  {
   "cell_type": "code",
   "execution_count": 79,
   "id": "0d306f5a",
   "metadata": {},
   "outputs": [
    {
     "name": "stdout",
     "output_type": "stream",
     "text": [
      "<class 'pandas.core.frame.DataFrame'>\n",
      "Int64Index: 19968 entries, 0 to 19967\n",
      "Data columns (total 29 columns):\n",
      " #   Column                               Non-Null Count  Dtype  \n",
      "---  ------                               --------------  -----  \n",
      " 0   customer_id                          19968 non-null  int64  \n",
      " 1   first_name                           19968 non-null  object \n",
      " 2   last_name                            19326 non-null  object \n",
      " 3   gender                               19968 non-null  object \n",
      " 4   past_3_years_bike_related_purchases  19968 non-null  int64  \n",
      " 5   dob                                  19522 non-null  object \n",
      " 6   job_title                            19968 non-null  object \n",
      " 7   job_industry_category                19968 non-null  object \n",
      " 8   wealth_segment                       19968 non-null  object \n",
      " 9   deceased_indicator                   19968 non-null  bool   \n",
      " 10  owns_car                             19968 non-null  bool   \n",
      " 11  tenure                               19968 non-null  float64\n",
      " 12  address                              19968 non-null  object \n",
      " 13  postcode                             19968 non-null  int64  \n",
      " 14  state                                19968 non-null  object \n",
      " 15  country                              19968 non-null  object \n",
      " 16  property_valuation                   19968 non-null  int64  \n",
      " 17  transaction_id                       19968 non-null  int64  \n",
      " 18  product_id                           19968 non-null  int64  \n",
      " 19  transaction_date                     19968 non-null  object \n",
      " 20  online_order                         19968 non-null  float64\n",
      " 21  order_status                         19968 non-null  object \n",
      " 22  brand                                19968 non-null  object \n",
      " 23  product_line                         19968 non-null  object \n",
      " 24  product_class                        19968 non-null  object \n",
      " 25  product_size                         19968 non-null  object \n",
      " 26  list_price                           19968 non-null  float64\n",
      " 27  standard_cost                        19794 non-null  float64\n",
      " 28  product_first_sold_date              19968 non-null  float64\n",
      "dtypes: bool(2), float64(5), int64(6), object(16)\n",
      "memory usage: 4.3+ MB\n"
     ]
    }
   ],
   "source": [
    "df.info()"
   ]
  },
  {
   "cell_type": "code",
   "execution_count": 80,
   "id": "430cdb59",
   "metadata": {
    "scrolled": true
   },
   "outputs": [
    {
     "data": {
      "text/html": [
       "<div>\n",
       "<style scoped>\n",
       "    .dataframe tbody tr th:only-of-type {\n",
       "        vertical-align: middle;\n",
       "    }\n",
       "\n",
       "    .dataframe tbody tr th {\n",
       "        vertical-align: top;\n",
       "    }\n",
       "\n",
       "    .dataframe thead th {\n",
       "        text-align: right;\n",
       "    }\n",
       "</style>\n",
       "<table border=\"1\" class=\"dataframe\">\n",
       "  <thead>\n",
       "    <tr style=\"text-align: right;\">\n",
       "      <th></th>\n",
       "      <th>count</th>\n",
       "      <th>mean</th>\n",
       "      <th>std</th>\n",
       "      <th>min</th>\n",
       "      <th>25%</th>\n",
       "      <th>50%</th>\n",
       "      <th>75%</th>\n",
       "      <th>max</th>\n",
       "    </tr>\n",
       "  </thead>\n",
       "  <tbody>\n",
       "    <tr>\n",
       "      <th>customer_id</th>\n",
       "      <td>19968.0</td>\n",
       "      <td>1740.254307</td>\n",
       "      <td>1009.819066</td>\n",
       "      <td>1.00</td>\n",
       "      <td>861.75</td>\n",
       "      <td>1739.50</td>\n",
       "      <td>2614.25</td>\n",
       "      <td>3500.00</td>\n",
       "    </tr>\n",
       "    <tr>\n",
       "      <th>past_3_years_bike_related_purchases</th>\n",
       "      <td>19968.0</td>\n",
       "      <td>48.757412</td>\n",
       "      <td>28.611359</td>\n",
       "      <td>0.00</td>\n",
       "      <td>24.00</td>\n",
       "      <td>48.00</td>\n",
       "      <td>73.00</td>\n",
       "      <td>99.00</td>\n",
       "    </tr>\n",
       "    <tr>\n",
       "      <th>tenure</th>\n",
       "      <td>19968.0</td>\n",
       "      <td>10.689052</td>\n",
       "      <td>5.611093</td>\n",
       "      <td>1.00</td>\n",
       "      <td>6.00</td>\n",
       "      <td>11.00</td>\n",
       "      <td>15.00</td>\n",
       "      <td>22.00</td>\n",
       "    </tr>\n",
       "    <tr>\n",
       "      <th>postcode</th>\n",
       "      <td>19968.0</td>\n",
       "      <td>2987.623347</td>\n",
       "      <td>851.306647</td>\n",
       "      <td>2000.00</td>\n",
       "      <td>2200.00</td>\n",
       "      <td>2767.00</td>\n",
       "      <td>3754.00</td>\n",
       "      <td>4883.00</td>\n",
       "    </tr>\n",
       "    <tr>\n",
       "      <th>property_valuation</th>\n",
       "      <td>19968.0</td>\n",
       "      <td>7.516376</td>\n",
       "      <td>2.824783</td>\n",
       "      <td>1.00</td>\n",
       "      <td>6.00</td>\n",
       "      <td>8.00</td>\n",
       "      <td>10.00</td>\n",
       "      <td>12.00</td>\n",
       "    </tr>\n",
       "    <tr>\n",
       "      <th>transaction_id</th>\n",
       "      <td>19968.0</td>\n",
       "      <td>9997.846504</td>\n",
       "      <td>5773.929973</td>\n",
       "      <td>1.00</td>\n",
       "      <td>4997.75</td>\n",
       "      <td>9996.50</td>\n",
       "      <td>14996.25</td>\n",
       "      <td>20000.00</td>\n",
       "    </tr>\n",
       "    <tr>\n",
       "      <th>product_id</th>\n",
       "      <td>19968.0</td>\n",
       "      <td>45.365986</td>\n",
       "      <td>30.750115</td>\n",
       "      <td>0.00</td>\n",
       "      <td>18.00</td>\n",
       "      <td>44.00</td>\n",
       "      <td>72.00</td>\n",
       "      <td>100.00</td>\n",
       "    </tr>\n",
       "    <tr>\n",
       "      <th>online_order</th>\n",
       "      <td>19968.0</td>\n",
       "      <td>0.501102</td>\n",
       "      <td>0.500011</td>\n",
       "      <td>0.00</td>\n",
       "      <td>0.00</td>\n",
       "      <td>1.00</td>\n",
       "      <td>1.00</td>\n",
       "      <td>1.00</td>\n",
       "    </tr>\n",
       "    <tr>\n",
       "      <th>list_price</th>\n",
       "      <td>19968.0</td>\n",
       "      <td>1107.780004</td>\n",
       "      <td>582.852548</td>\n",
       "      <td>12.01</td>\n",
       "      <td>575.27</td>\n",
       "      <td>1163.89</td>\n",
       "      <td>1635.30</td>\n",
       "      <td>2091.47</td>\n",
       "    </tr>\n",
       "    <tr>\n",
       "      <th>standard_cost</th>\n",
       "      <td>19794.0</td>\n",
       "      <td>556.082756</td>\n",
       "      <td>405.798188</td>\n",
       "      <td>7.21</td>\n",
       "      <td>215.14</td>\n",
       "      <td>507.58</td>\n",
       "      <td>795.10</td>\n",
       "      <td>1759.85</td>\n",
       "    </tr>\n",
       "    <tr>\n",
       "      <th>product_first_sold_date</th>\n",
       "      <td>19968.0</td>\n",
       "      <td>38198.751474</td>\n",
       "      <td>2860.784340</td>\n",
       "      <td>33259.00</td>\n",
       "      <td>35667.00</td>\n",
       "      <td>38206.00</td>\n",
       "      <td>40672.00</td>\n",
       "      <td>42710.00</td>\n",
       "    </tr>\n",
       "  </tbody>\n",
       "</table>\n",
       "</div>"
      ],
      "text/plain": [
       "                                       count          mean          std  \\\n",
       "customer_id                          19968.0   1740.254307  1009.819066   \n",
       "past_3_years_bike_related_purchases  19968.0     48.757412    28.611359   \n",
       "tenure                               19968.0     10.689052     5.611093   \n",
       "postcode                             19968.0   2987.623347   851.306647   \n",
       "property_valuation                   19968.0      7.516376     2.824783   \n",
       "transaction_id                       19968.0   9997.846504  5773.929973   \n",
       "product_id                           19968.0     45.365986    30.750115   \n",
       "online_order                         19968.0      0.501102     0.500011   \n",
       "list_price                           19968.0   1107.780004   582.852548   \n",
       "standard_cost                        19794.0    556.082756   405.798188   \n",
       "product_first_sold_date              19968.0  38198.751474  2860.784340   \n",
       "\n",
       "                                          min       25%       50%       75%  \\\n",
       "customer_id                              1.00    861.75   1739.50   2614.25   \n",
       "past_3_years_bike_related_purchases      0.00     24.00     48.00     73.00   \n",
       "tenure                                   1.00      6.00     11.00     15.00   \n",
       "postcode                              2000.00   2200.00   2767.00   3754.00   \n",
       "property_valuation                       1.00      6.00      8.00     10.00   \n",
       "transaction_id                           1.00   4997.75   9996.50  14996.25   \n",
       "product_id                               0.00     18.00     44.00     72.00   \n",
       "online_order                             0.00      0.00      1.00      1.00   \n",
       "list_price                              12.01    575.27   1163.89   1635.30   \n",
       "standard_cost                            7.21    215.14    507.58    795.10   \n",
       "product_first_sold_date              33259.00  35667.00  38206.00  40672.00   \n",
       "\n",
       "                                          max  \n",
       "customer_id                           3500.00  \n",
       "past_3_years_bike_related_purchases     99.00  \n",
       "tenure                                  22.00  \n",
       "postcode                              4883.00  \n",
       "property_valuation                      12.00  \n",
       "transaction_id                       20000.00  \n",
       "product_id                             100.00  \n",
       "online_order                             1.00  \n",
       "list_price                            2091.47  \n",
       "standard_cost                         1759.85  \n",
       "product_first_sold_date              42710.00  "
      ]
     },
     "execution_count": 80,
     "metadata": {},
     "output_type": "execute_result"
    }
   ],
   "source": [
    "df.describe().T"
   ]
  },
  {
   "cell_type": "code",
   "execution_count": 81,
   "id": "a9b5a5f1",
   "metadata": {},
   "outputs": [
    {
     "data": {
      "text/plain": [
       "0"
      ]
     },
     "execution_count": 81,
     "metadata": {},
     "output_type": "execute_result"
    }
   ],
   "source": [
    "df.duplicated().sum()"
   ]
  },
  {
   "cell_type": "code",
   "execution_count": 82,
   "id": "cbcf04e7",
   "metadata": {},
   "outputs": [
    {
     "data": {
      "text/plain": [
       "customer_id                              0\n",
       "first_name                               0\n",
       "last_name                              642\n",
       "gender                                   0\n",
       "past_3_years_bike_related_purchases      0\n",
       "dob                                    446\n",
       "job_title                                0\n",
       "job_industry_category                    0\n",
       "wealth_segment                           0\n",
       "deceased_indicator                       0\n",
       "owns_car                                 0\n",
       "tenure                                   0\n",
       "address                                  0\n",
       "postcode                                 0\n",
       "state                                    0\n",
       "country                                  0\n",
       "property_valuation                       0\n",
       "transaction_id                           0\n",
       "product_id                               0\n",
       "transaction_date                         0\n",
       "online_order                             0\n",
       "order_status                             0\n",
       "brand                                    0\n",
       "product_line                             0\n",
       "product_class                            0\n",
       "product_size                             0\n",
       "list_price                               0\n",
       "standard_cost                          174\n",
       "product_first_sold_date                  0\n",
       "dtype: int64"
      ]
     },
     "execution_count": 82,
     "metadata": {},
     "output_type": "execute_result"
    }
   ],
   "source": [
    "df.isnull().sum()"
   ]
  },
  {
   "cell_type": "code",
   "execution_count": 83,
   "id": "95982dfd",
   "metadata": {},
   "outputs": [],
   "source": [
    "df[\"last_name\"].fillna(method = 'ffill', inplace=True)"
   ]
  },
  {
   "cell_type": "code",
   "execution_count": 84,
   "id": "332ff3b7",
   "metadata": {},
   "outputs": [],
   "source": [
    "df[\"dob\"].fillna(method = 'ffill', inplace=True)"
   ]
  },
  {
   "cell_type": "code",
   "execution_count": 85,
   "id": "00bc44c0",
   "metadata": {},
   "outputs": [
    {
     "data": {
      "text/plain": [
       "0    388.92\n",
       "dtype: float64"
      ]
     },
     "execution_count": 85,
     "metadata": {},
     "output_type": "execute_result"
    }
   ],
   "source": [
    "df[\"standard_cost\"].mode()"
   ]
  },
  {
   "cell_type": "code",
   "execution_count": 86,
   "id": "c46d3655",
   "metadata": {},
   "outputs": [
    {
     "data": {
      "text/plain": [
       "556.0827558856358"
      ]
     },
     "execution_count": 86,
     "metadata": {},
     "output_type": "execute_result"
    }
   ],
   "source": [
    "df[\"standard_cost\"].mean()"
   ]
  },
  {
   "cell_type": "code",
   "execution_count": 87,
   "id": "3846374a",
   "metadata": {},
   "outputs": [],
   "source": [
    "df[\"standard_cost\"].fillna(df[\"standard_cost\"].mean(), inplace=True)"
   ]
  },
  {
   "cell_type": "code",
   "execution_count": 88,
   "id": "fd19d008",
   "metadata": {},
   "outputs": [
    {
     "data": {
      "text/plain": [
       "customer_id                            0\n",
       "first_name                             0\n",
       "last_name                              0\n",
       "gender                                 0\n",
       "past_3_years_bike_related_purchases    0\n",
       "dob                                    0\n",
       "job_title                              0\n",
       "job_industry_category                  0\n",
       "wealth_segment                         0\n",
       "deceased_indicator                     0\n",
       "owns_car                               0\n",
       "tenure                                 0\n",
       "address                                0\n",
       "postcode                               0\n",
       "state                                  0\n",
       "country                                0\n",
       "property_valuation                     0\n",
       "transaction_id                         0\n",
       "product_id                             0\n",
       "transaction_date                       0\n",
       "online_order                           0\n",
       "order_status                           0\n",
       "brand                                  0\n",
       "product_line                           0\n",
       "product_class                          0\n",
       "product_size                           0\n",
       "list_price                             0\n",
       "standard_cost                          0\n",
       "product_first_sold_date                0\n",
       "dtype: int64"
      ]
     },
     "execution_count": 88,
     "metadata": {},
     "output_type": "execute_result"
    }
   ],
   "source": [
    "df.isna().sum()"
   ]
  },
  {
   "cell_type": "code",
   "execution_count": 89,
   "id": "597381ed",
   "metadata": {},
   "outputs": [],
   "source": [
    "df[\"dob\"] = df[\"dob\"].apply(pd.to_datetime)"
   ]
  },
  {
   "cell_type": "code",
   "execution_count": 91,
   "id": "9ab8b11c",
   "metadata": {
    "scrolled": true
   },
   "outputs": [
    {
     "data": {
      "text/plain": [
       "customer_id                                     int64\n",
       "first_name                                     object\n",
       "last_name                                      object\n",
       "gender                                         object\n",
       "past_3_years_bike_related_purchases             int64\n",
       "dob                                    datetime64[ns]\n",
       "job_title                                      object\n",
       "job_industry_category                          object\n",
       "wealth_segment                                 object\n",
       "deceased_indicator                               bool\n",
       "owns_car                                         bool\n",
       "tenure                                        float64\n",
       "address                                        object\n",
       "postcode                                        int64\n",
       "state                                          object\n",
       "country                                        object\n",
       "property_valuation                              int64\n",
       "transaction_id                                  int64\n",
       "product_id                                      int64\n",
       "transaction_date                               object\n",
       "online_order                                  float64\n",
       "order_status                                   object\n",
       "brand                                          object\n",
       "product_line                                   object\n",
       "product_class                                  object\n",
       "product_size                                   object\n",
       "list_price                                    float64\n",
       "standard_cost                                 float64\n",
       "product_first_sold_date                       float64\n",
       "dtype: object"
      ]
     },
     "execution_count": 91,
     "metadata": {},
     "output_type": "execute_result"
    }
   ],
   "source": [
    "df.dtypes"
   ]
  },
  {
   "cell_type": "code",
   "execution_count": 92,
   "id": "da1b99a8",
   "metadata": {},
   "outputs": [],
   "source": [
    "ref_date = dt.datetime.now()\n",
    "df[\"Age\"] = df[\"dob\"].apply(lambda x: len(pd.date_range(start = x, end = ref_date, freq=\"Y\")))"
   ]
  },
  {
   "cell_type": "code",
   "execution_count": 94,
   "id": "c3688863",
   "metadata": {},
   "outputs": [],
   "source": [
    "df = df[df[\"Age\"]<100]"
   ]
  },
  {
   "cell_type": "code",
   "execution_count": 96,
   "id": "40839527",
   "metadata": {},
   "outputs": [
    {
     "name": "stderr",
     "output_type": "stream",
     "text": [
      "<ipython-input-96-f9813b48a14a>:1: SettingWithCopyWarning: \n",
      "A value is trying to be set on a copy of a slice from a DataFrame.\n",
      "Try using .loc[row_indexer,col_indexer] = value instead\n",
      "\n",
      "See the caveats in the documentation: https://pandas.pydata.org/pandas-docs/stable/user_guide/indexing.html#returning-a-view-versus-a-copy\n",
      "  df[\"transaction_month\"] = pd.DatetimeIndex(df[\"dob\"]).month\n"
     ]
    }
   ],
   "source": [
    "df[\"transaction_month\"] = pd.DatetimeIndex(df[\"dob\"]).month"
   ]
  },
  {
   "cell_type": "code",
   "execution_count": 97,
   "id": "06a04233",
   "metadata": {},
   "outputs": [
    {
     "name": "stderr",
     "output_type": "stream",
     "text": [
      "<ipython-input-97-a29e1634b747>:1: SettingWithCopyWarning: \n",
      "A value is trying to be set on a copy of a slice from a DataFrame.\n",
      "Try using .loc[row_indexer,col_indexer] = value instead\n",
      "\n",
      "See the caveats in the documentation: https://pandas.pydata.org/pandas-docs/stable/user_guide/indexing.html#returning-a-view-versus-a-copy\n",
      "  df['profit'] = df['list_price'] - df['standard_cost']\n"
     ]
    }
   ],
   "source": [
    "df['profit'] = df['list_price'] - df['standard_cost']"
   ]
  },
  {
   "cell_type": "code",
   "execution_count": 98,
   "id": "25562291",
   "metadata": {
    "scrolled": true
   },
   "outputs": [
    {
     "data": {
      "text/html": [
       "<div>\n",
       "<style scoped>\n",
       "    .dataframe tbody tr th:only-of-type {\n",
       "        vertical-align: middle;\n",
       "    }\n",
       "\n",
       "    .dataframe tbody tr th {\n",
       "        vertical-align: top;\n",
       "    }\n",
       "\n",
       "    .dataframe thead th {\n",
       "        text-align: right;\n",
       "    }\n",
       "</style>\n",
       "<table border=\"1\" class=\"dataframe\">\n",
       "  <thead>\n",
       "    <tr style=\"text-align: right;\">\n",
       "      <th></th>\n",
       "      <th>customer_id</th>\n",
       "      <th>first_name</th>\n",
       "      <th>last_name</th>\n",
       "      <th>gender</th>\n",
       "      <th>past_3_years_bike_related_purchases</th>\n",
       "      <th>dob</th>\n",
       "      <th>job_title</th>\n",
       "      <th>job_industry_category</th>\n",
       "      <th>wealth_segment</th>\n",
       "      <th>deceased_indicator</th>\n",
       "      <th>...</th>\n",
       "      <th>brand</th>\n",
       "      <th>product_line</th>\n",
       "      <th>product_class</th>\n",
       "      <th>product_size</th>\n",
       "      <th>list_price</th>\n",
       "      <th>standard_cost</th>\n",
       "      <th>product_first_sold_date</th>\n",
       "      <th>Age</th>\n",
       "      <th>transaction_month</th>\n",
       "      <th>profit</th>\n",
       "    </tr>\n",
       "  </thead>\n",
       "  <tbody>\n",
       "    <tr>\n",
       "      <th>0</th>\n",
       "      <td>1</td>\n",
       "      <td>Laraine</td>\n",
       "      <td>Medendorp</td>\n",
       "      <td>Female</td>\n",
       "      <td>93</td>\n",
       "      <td>1953-10-12</td>\n",
       "      <td>Executive Secretary</td>\n",
       "      <td>Health</td>\n",
       "      <td>Mass Customer</td>\n",
       "      <td>False</td>\n",
       "      <td>...</td>\n",
       "      <td>Norco Bicycles</td>\n",
       "      <td>Standard</td>\n",
       "      <td>medium</td>\n",
       "      <td>medium</td>\n",
       "      <td>360.40</td>\n",
       "      <td>270.30</td>\n",
       "      <td>37873.0</td>\n",
       "      <td>69</td>\n",
       "      <td>10</td>\n",
       "      <td>90.10</td>\n",
       "    </tr>\n",
       "    <tr>\n",
       "      <th>10</th>\n",
       "      <td>1</td>\n",
       "      <td>Laraine</td>\n",
       "      <td>Medendorp</td>\n",
       "      <td>Female</td>\n",
       "      <td>93</td>\n",
       "      <td>1953-10-12</td>\n",
       "      <td>Executive Secretary</td>\n",
       "      <td>Health</td>\n",
       "      <td>Mass Customer</td>\n",
       "      <td>False</td>\n",
       "      <td>...</td>\n",
       "      <td>OHM Cycles</td>\n",
       "      <td>Standard</td>\n",
       "      <td>medium</td>\n",
       "      <td>medium</td>\n",
       "      <td>235.63</td>\n",
       "      <td>125.07</td>\n",
       "      <td>38482.0</td>\n",
       "      <td>69</td>\n",
       "      <td>10</td>\n",
       "      <td>110.56</td>\n",
       "    </tr>\n",
       "    <tr>\n",
       "      <th>8</th>\n",
       "      <td>1</td>\n",
       "      <td>Laraine</td>\n",
       "      <td>Medendorp</td>\n",
       "      <td>Female</td>\n",
       "      <td>93</td>\n",
       "      <td>1953-10-12</td>\n",
       "      <td>Executive Secretary</td>\n",
       "      <td>Health</td>\n",
       "      <td>Mass Customer</td>\n",
       "      <td>False</td>\n",
       "      <td>...</td>\n",
       "      <td>OHM Cycles</td>\n",
       "      <td>Road</td>\n",
       "      <td>medium</td>\n",
       "      <td>medium</td>\n",
       "      <td>742.54</td>\n",
       "      <td>667.40</td>\n",
       "      <td>37838.0</td>\n",
       "      <td>69</td>\n",
       "      <td>10</td>\n",
       "      <td>75.14</td>\n",
       "    </tr>\n",
       "    <tr>\n",
       "      <th>7</th>\n",
       "      <td>1</td>\n",
       "      <td>Laraine</td>\n",
       "      <td>Medendorp</td>\n",
       "      <td>Female</td>\n",
       "      <td>93</td>\n",
       "      <td>1953-10-12</td>\n",
       "      <td>Executive Secretary</td>\n",
       "      <td>Health</td>\n",
       "      <td>Mass Customer</td>\n",
       "      <td>False</td>\n",
       "      <td>...</td>\n",
       "      <td>Giant Bicycles</td>\n",
       "      <td>Standard</td>\n",
       "      <td>medium</td>\n",
       "      <td>medium</td>\n",
       "      <td>642.70</td>\n",
       "      <td>211.37</td>\n",
       "      <td>40618.0</td>\n",
       "      <td>69</td>\n",
       "      <td>10</td>\n",
       "      <td>431.33</td>\n",
       "    </tr>\n",
       "    <tr>\n",
       "      <th>6</th>\n",
       "      <td>1</td>\n",
       "      <td>Laraine</td>\n",
       "      <td>Medendorp</td>\n",
       "      <td>Female</td>\n",
       "      <td>93</td>\n",
       "      <td>1953-10-12</td>\n",
       "      <td>Executive Secretary</td>\n",
       "      <td>Health</td>\n",
       "      <td>Mass Customer</td>\n",
       "      <td>False</td>\n",
       "      <td>...</td>\n",
       "      <td>Giant Bicycles</td>\n",
       "      <td>Road</td>\n",
       "      <td>medium</td>\n",
       "      <td>medium</td>\n",
       "      <td>1538.99</td>\n",
       "      <td>829.65</td>\n",
       "      <td>33552.0</td>\n",
       "      <td>69</td>\n",
       "      <td>10</td>\n",
       "      <td>709.34</td>\n",
       "    </tr>\n",
       "  </tbody>\n",
       "</table>\n",
       "<p>5 rows × 32 columns</p>\n",
       "</div>"
      ],
      "text/plain": [
       "    customer_id first_name  last_name  gender  \\\n",
       "0             1    Laraine  Medendorp  Female   \n",
       "10            1    Laraine  Medendorp  Female   \n",
       "8             1    Laraine  Medendorp  Female   \n",
       "7             1    Laraine  Medendorp  Female   \n",
       "6             1    Laraine  Medendorp  Female   \n",
       "\n",
       "    past_3_years_bike_related_purchases        dob            job_title  \\\n",
       "0                                    93 1953-10-12  Executive Secretary   \n",
       "10                                   93 1953-10-12  Executive Secretary   \n",
       "8                                    93 1953-10-12  Executive Secretary   \n",
       "7                                    93 1953-10-12  Executive Secretary   \n",
       "6                                    93 1953-10-12  Executive Secretary   \n",
       "\n",
       "   job_industry_category wealth_segment  deceased_indicator  ...  \\\n",
       "0                 Health  Mass Customer               False  ...   \n",
       "10                Health  Mass Customer               False  ...   \n",
       "8                 Health  Mass Customer               False  ...   \n",
       "7                 Health  Mass Customer               False  ...   \n",
       "6                 Health  Mass Customer               False  ...   \n",
       "\n",
       "             brand  product_line product_class  product_size list_price  \\\n",
       "0   Norco Bicycles      Standard        medium        medium     360.40   \n",
       "10      OHM Cycles      Standard        medium        medium     235.63   \n",
       "8       OHM Cycles          Road        medium        medium     742.54   \n",
       "7   Giant Bicycles      Standard        medium        medium     642.70   \n",
       "6   Giant Bicycles          Road        medium        medium    1538.99   \n",
       "\n",
       "   standard_cost  product_first_sold_date  Age  transaction_month  profit  \n",
       "0         270.30                  37873.0   69                 10   90.10  \n",
       "10        125.07                  38482.0   69                 10  110.56  \n",
       "8         667.40                  37838.0   69                 10   75.14  \n",
       "7         211.37                  40618.0   69                 10  431.33  \n",
       "6         829.65                  33552.0   69                 10  709.34  \n",
       "\n",
       "[5 rows x 32 columns]"
      ]
     },
     "execution_count": 98,
     "metadata": {},
     "output_type": "execute_result"
    }
   ],
   "source": [
    "df.head()"
   ]
  },
  {
   "cell_type": "code",
   "execution_count": 99,
   "id": "c13558f1",
   "metadata": {},
   "outputs": [
    {
     "data": {
      "text/html": [
       "<div>\n",
       "<style scoped>\n",
       "    .dataframe tbody tr th:only-of-type {\n",
       "        vertical-align: middle;\n",
       "    }\n",
       "\n",
       "    .dataframe tbody tr th {\n",
       "        vertical-align: top;\n",
       "    }\n",
       "\n",
       "    .dataframe thead th {\n",
       "        text-align: right;\n",
       "    }\n",
       "</style>\n",
       "<table border=\"1\" class=\"dataframe\">\n",
       "  <thead>\n",
       "    <tr style=\"text-align: right;\">\n",
       "      <th></th>\n",
       "      <th>customer_id</th>\n",
       "      <th>first_name</th>\n",
       "      <th>last_name</th>\n",
       "      <th>gender</th>\n",
       "      <th>past_3_years_bike_related_purchases</th>\n",
       "      <th>dob</th>\n",
       "      <th>job_title</th>\n",
       "      <th>job_industry_category</th>\n",
       "      <th>wealth_segment</th>\n",
       "      <th>deceased_indicator</th>\n",
       "      <th>...</th>\n",
       "      <th>brand</th>\n",
       "      <th>product_line</th>\n",
       "      <th>product_class</th>\n",
       "      <th>product_size</th>\n",
       "      <th>list_price</th>\n",
       "      <th>standard_cost</th>\n",
       "      <th>product_first_sold_date</th>\n",
       "      <th>Age</th>\n",
       "      <th>transaction_month</th>\n",
       "      <th>profit</th>\n",
       "    </tr>\n",
       "  </thead>\n",
       "  <tbody>\n",
       "    <tr>\n",
       "      <th>19964</th>\n",
       "      <td>3500</td>\n",
       "      <td>Josy</td>\n",
       "      <td>Fleeman</td>\n",
       "      <td>Female</td>\n",
       "      <td>71</td>\n",
       "      <td>1967-07-21</td>\n",
       "      <td>Operator</td>\n",
       "      <td>Entertainment</td>\n",
       "      <td>Affluent Customer</td>\n",
       "      <td>False</td>\n",
       "      <td>...</td>\n",
       "      <td>WeareA2B</td>\n",
       "      <td>Standard</td>\n",
       "      <td>medium</td>\n",
       "      <td>medium</td>\n",
       "      <td>1228.07</td>\n",
       "      <td>400.91</td>\n",
       "      <td>36668.0</td>\n",
       "      <td>55</td>\n",
       "      <td>7</td>\n",
       "      <td>827.16</td>\n",
       "    </tr>\n",
       "    <tr>\n",
       "      <th>19966</th>\n",
       "      <td>3500</td>\n",
       "      <td>Josy</td>\n",
       "      <td>Fleeman</td>\n",
       "      <td>Female</td>\n",
       "      <td>71</td>\n",
       "      <td>1967-07-21</td>\n",
       "      <td>Operator</td>\n",
       "      <td>Entertainment</td>\n",
       "      <td>Affluent Customer</td>\n",
       "      <td>False</td>\n",
       "      <td>...</td>\n",
       "      <td>Solex</td>\n",
       "      <td>Standard</td>\n",
       "      <td>medium</td>\n",
       "      <td>medium</td>\n",
       "      <td>71.49</td>\n",
       "      <td>53.62</td>\n",
       "      <td>41245.0</td>\n",
       "      <td>55</td>\n",
       "      <td>7</td>\n",
       "      <td>17.87</td>\n",
       "    </tr>\n",
       "    <tr>\n",
       "      <th>19962</th>\n",
       "      <td>3500</td>\n",
       "      <td>Josy</td>\n",
       "      <td>Fleeman</td>\n",
       "      <td>Female</td>\n",
       "      <td>71</td>\n",
       "      <td>1967-07-21</td>\n",
       "      <td>Operator</td>\n",
       "      <td>Entertainment</td>\n",
       "      <td>Affluent Customer</td>\n",
       "      <td>False</td>\n",
       "      <td>...</td>\n",
       "      <td>Giant Bicycles</td>\n",
       "      <td>Road</td>\n",
       "      <td>medium</td>\n",
       "      <td>medium</td>\n",
       "      <td>792.90</td>\n",
       "      <td>594.68</td>\n",
       "      <td>33879.0</td>\n",
       "      <td>55</td>\n",
       "      <td>7</td>\n",
       "      <td>198.22</td>\n",
       "    </tr>\n",
       "    <tr>\n",
       "      <th>19963</th>\n",
       "      <td>3500</td>\n",
       "      <td>Josy</td>\n",
       "      <td>Fleeman</td>\n",
       "      <td>Female</td>\n",
       "      <td>71</td>\n",
       "      <td>1967-07-21</td>\n",
       "      <td>Operator</td>\n",
       "      <td>Entertainment</td>\n",
       "      <td>Affluent Customer</td>\n",
       "      <td>False</td>\n",
       "      <td>...</td>\n",
       "      <td>WeareA2B</td>\n",
       "      <td>Standard</td>\n",
       "      <td>medium</td>\n",
       "      <td>medium</td>\n",
       "      <td>60.34</td>\n",
       "      <td>45.26</td>\n",
       "      <td>34165.0</td>\n",
       "      <td>55</td>\n",
       "      <td>7</td>\n",
       "      <td>15.08</td>\n",
       "    </tr>\n",
       "    <tr>\n",
       "      <th>19967</th>\n",
       "      <td>3500</td>\n",
       "      <td>Josy</td>\n",
       "      <td>Fleeman</td>\n",
       "      <td>Female</td>\n",
       "      <td>71</td>\n",
       "      <td>1967-07-21</td>\n",
       "      <td>Operator</td>\n",
       "      <td>Entertainment</td>\n",
       "      <td>Affluent Customer</td>\n",
       "      <td>False</td>\n",
       "      <td>...</td>\n",
       "      <td>Giant Bicycles</td>\n",
       "      <td>Standard</td>\n",
       "      <td>medium</td>\n",
       "      <td>small</td>\n",
       "      <td>1311.44</td>\n",
       "      <td>1167.18</td>\n",
       "      <td>33888.0</td>\n",
       "      <td>55</td>\n",
       "      <td>7</td>\n",
       "      <td>144.26</td>\n",
       "    </tr>\n",
       "  </tbody>\n",
       "</table>\n",
       "<p>5 rows × 32 columns</p>\n",
       "</div>"
      ],
      "text/plain": [
       "       customer_id first_name last_name  gender  \\\n",
       "19964         3500       Josy   Fleeman  Female   \n",
       "19966         3500       Josy   Fleeman  Female   \n",
       "19962         3500       Josy   Fleeman  Female   \n",
       "19963         3500       Josy   Fleeman  Female   \n",
       "19967         3500       Josy   Fleeman  Female   \n",
       "\n",
       "       past_3_years_bike_related_purchases        dob job_title  \\\n",
       "19964                                   71 1967-07-21  Operator   \n",
       "19966                                   71 1967-07-21  Operator   \n",
       "19962                                   71 1967-07-21  Operator   \n",
       "19963                                   71 1967-07-21  Operator   \n",
       "19967                                   71 1967-07-21  Operator   \n",
       "\n",
       "      job_industry_category     wealth_segment  deceased_indicator  ...  \\\n",
       "19964         Entertainment  Affluent Customer               False  ...   \n",
       "19966         Entertainment  Affluent Customer               False  ...   \n",
       "19962         Entertainment  Affluent Customer               False  ...   \n",
       "19963         Entertainment  Affluent Customer               False  ...   \n",
       "19967         Entertainment  Affluent Customer               False  ...   \n",
       "\n",
       "                brand  product_line product_class  product_size list_price  \\\n",
       "19964        WeareA2B      Standard        medium        medium    1228.07   \n",
       "19966           Solex      Standard        medium        medium      71.49   \n",
       "19962  Giant Bicycles          Road        medium        medium     792.90   \n",
       "19963        WeareA2B      Standard        medium        medium      60.34   \n",
       "19967  Giant Bicycles      Standard        medium         small    1311.44   \n",
       "\n",
       "      standard_cost  product_first_sold_date  Age  transaction_month  profit  \n",
       "19964        400.91                  36668.0   55                  7  827.16  \n",
       "19966         53.62                  41245.0   55                  7   17.87  \n",
       "19962        594.68                  33879.0   55                  7  198.22  \n",
       "19963         45.26                  34165.0   55                  7   15.08  \n",
       "19967       1167.18                  33888.0   55                  7  144.26  \n",
       "\n",
       "[5 rows x 32 columns]"
      ]
     },
     "execution_count": 99,
     "metadata": {},
     "output_type": "execute_result"
    }
   ],
   "source": [
    "df.tail()"
   ]
  },
  {
   "cell_type": "code",
   "execution_count": 100,
   "id": "d5f9e57c",
   "metadata": {},
   "outputs": [],
   "source": [
    "plt.rcParams[\"figure.figsize\"] = [15, 8]"
   ]
  },
  {
   "cell_type": "code",
   "execution_count": 105,
   "id": "782c4ad2",
   "metadata": {
    "scrolled": true
   },
   "outputs": [
    {
     "data": {
      "image/png": "[encoded data removed]",
      "text/plain": [
       "<Figure size 1080x576 with 1 Axes>"
      ]
     },
     "metadata": {
      "needs_background": "light"
     },
     "output_type": "display_data"
    }
   ],
   "source": [
    "df[\"Age\"].hist(bins=[0,24,44,64,100])\n",
    "plt.title('Age distribution histogram')\n",
    "plt.xlabel('Age')\n",
    "plt.ylabel('Frequency')\n",
    "plt.show()"
   ]
  },
  {
   "cell_type": "code",
   "execution_count": 106,
   "id": "abc78fbb",
   "metadata": {
    "scrolled": true
   },
   "outputs": [
    {
     "name": "stderr",
     "output_type": "stream",
     "text": [
      "C:\\Users\\Shreya\\anaconda3\\lib\\site-packages\\seaborn\\_decorators.py:36: FutureWarning: Pass the following variable as a keyword arg: x. From version 0.12, the only valid positional argument will be `data`, and passing other arguments without an explicit keyword will result in an error or misinterpretation.\n",
      "  warnings.warn(\n"
     ]
    },
    {
     "data": {
      "text/plain": [
       "Text(0.5, 1.0, 'Gender count barchart')"
      ]
     },
     "execution_count": 106,
     "metadata": {},
     "output_type": "execute_result"
    },
    {
     "data": {
      "image/png": "[encoded data removed]",
      "text/plain": [
       "<Figure size 1080x576 with 1 Axes>"
      ]
     },
     "metadata": {
      "needs_background": "light"
     },
     "output_type": "display_data"
    }
   ],
   "source": [
    "sns.countplot(df[\"gender\"])\n",
    "plt.title('Gender count barchart')\n"
   ]
  },
  {
   "cell_type": "code",
   "execution_count": 107,
   "id": "d55ea061",
   "metadata": {
    "scrolled": true
   },
   "outputs": [
    {
     "name": "stderr",
     "output_type": "stream",
     "text": [
      "C:\\Users\\Shreya\\anaconda3\\lib\\site-packages\\seaborn\\_decorators.py:36: FutureWarning: Pass the following variable as a keyword arg: x. From version 0.12, the only valid positional argument will be `data`, and passing other arguments without an explicit keyword will result in an error or misinterpretation.\n",
      "  warnings.warn(\n"
     ]
    },
    {
     "data": {
      "text/plain": [
       "Text(0.5, 1.0, 'Job industry category barchart')"
      ]
     },
     "execution_count": 107,
     "metadata": {},
     "output_type": "execute_result"
    },
    {
     "data": {
      "image/png": "[encoded data removed]",
      "text/plain": [
       "<Figure size 1080x576 with 1 Axes>"
      ]
     },
     "metadata": {
      "needs_background": "light"
     },
     "output_type": "display_data"
    }
   ],
   "source": [
    "sns.countplot(df[\"job_industry_category\"])\n",
    "plt.title('Job industry category barchart')"
   ]
  },
  {
   "cell_type": "code",
   "execution_count": 109,
   "id": "4b3730e2",
   "metadata": {},
   "outputs": [
    {
     "name": "stderr",
     "output_type": "stream",
     "text": [
      "C:\\Users\\Shreya\\anaconda3\\lib\\site-packages\\seaborn\\_decorators.py:36: FutureWarning: Pass the following variable as a keyword arg: x. From version 0.12, the only valid positional argument will be `data`, and passing other arguments without an explicit keyword will result in an error or misinterpretation.\n",
      "  warnings.warn(\n"
     ]
    },
    {
     "data": {
      "text/plain": [
       "Text(0.5, 1.0, 'Job industry category across gender')"
      ]
     },
     "execution_count": 109,
     "metadata": {},
     "output_type": "execute_result"
    },
    {
     "data": {
      "image/png": "[encoded data removed]",
      "text/plain": [
       "<Figure size 1080x576 with 1 Axes>"
      ]
     },
     "metadata": {
      "needs_background": "light"
     },
     "output_type": "display_data"
    }
   ],
   "source": [
    "sns.countplot(df[\"job_industry_category\"], hue = df[\"gender\"])\n",
    "plt.title('Job industry category across gender')"
   ]
  },
  {
   "cell_type": "code",
   "execution_count": 111,
   "id": "80fc21b9",
   "metadata": {},
   "outputs": [
    {
     "name": "stderr",
     "output_type": "stream",
     "text": [
      "C:\\Users\\Shreya\\anaconda3\\lib\\site-packages\\seaborn\\_decorators.py:36: FutureWarning: Pass the following variable as a keyword arg: x. From version 0.12, the only valid positional argument will be `data`, and passing other arguments without an explicit keyword will result in an error or misinterpretation.\n",
      "  warnings.warn(\n"
     ]
    },
    {
     "data": {
      "text/plain": [
       "Text(0, 0.5, 'Frequency')"
      ]
     },
     "execution_count": 111,
     "metadata": {},
     "output_type": "execute_result"
    },
    {
     "data": {
      "image/png": "[encoded data removed]",
      "text/plain": [
       "<Figure size 1080x576 with 1 Axes>"
      ]
     },
     "metadata": {
      "needs_background": "light"
     },
     "output_type": "display_data"
    }
   ],
   "source": [
    "sns.countplot(df[\"wealth_segment\"])\n",
    "plt.title('wealth_segment_distribution')\n",
    "plt.xlabel('Wealth segment')\n",
    "plt.ylabel('Frequency')"
   ]
  },
  {
   "cell_type": "code",
   "execution_count": 112,
   "id": "9bb686b5",
   "metadata": {},
   "outputs": [
    {
     "name": "stderr",
     "output_type": "stream",
     "text": [
      "C:\\Users\\Shreya\\anaconda3\\lib\\site-packages\\seaborn\\_decorators.py:36: FutureWarning: Pass the following variable as a keyword arg: x. From version 0.12, the only valid positional argument will be `data`, and passing other arguments without an explicit keyword will result in an error or misinterpretation.\n",
      "  warnings.warn(\n"
     ]
    },
    {
     "data": {
      "text/plain": [
       "Text(0.5, 1.0, 'Number of cars owned across gender')"
      ]
     },
     "execution_count": 112,
     "metadata": {},
     "output_type": "execute_result"
    },
    {
     "data": {
      "image/png": "[encoded data removed]",
      "text/plain": [
       "<Figure size 1080x576 with 1 Axes>"
      ]
     },
     "metadata": {
      "needs_background": "light"
     },
     "output_type": "display_data"
    }
   ],
   "source": [
    "sns.countplot(df[\"gender\"], hue=df[\"owns_car\"])\n",
    "plt.title(\"Number of cars owned across gender\")"
   ]
  },
  {
   "cell_type": "code",
   "execution_count": 119,
   "id": "aa812f03",
   "metadata": {
    "scrolled": true
   },
   "outputs": [
    {
     "data": {
      "text/plain": [
       "Text(0.5, 1.0, 'Number of bikes purchased across gender')"
      ]
     },
     "execution_count": 119,
     "metadata": {},
     "output_type": "execute_result"
    },
    {
     "data": {
      "image/png": "[encoded data removed]",
      "text/plain": [
       "<Figure size 360x360 with 1 Axes>"
      ]
     },
     "metadata": {
      "needs_background": "light"
     },
     "output_type": "display_data"
    }
   ],
   "source": [
    "sns.catplot(data=df, x='gender', y='past_3_years_bike_related_purchases')\n",
    "plt.title('Number of bikes purchased across gender')"
   ]
  },
  {
   "cell_type": "code",
   "execution_count": 121,
   "id": "b005a1ed",
   "metadata": {},
   "outputs": [
    {
     "name": "stderr",
     "output_type": "stream",
     "text": [
      "C:\\Users\\Shreya\\anaconda3\\lib\\site-packages\\seaborn\\_decorators.py:36: FutureWarning: Pass the following variable as a keyword arg: x. From version 0.12, the only valid positional argument will be `data`, and passing other arguments without an explicit keyword will result in an error or misinterpretation.\n",
      "  warnings.warn(\n"
     ]
    },
    {
     "data": {
      "text/plain": [
       "Text(0.5, 1.0, 'Wealth segment across gender')"
      ]
     },
     "execution_count": 121,
     "metadata": {},
     "output_type": "execute_result"
    },
    {
     "data": {
      "image/png": "[encoded data removed]",
      "text/plain": [
       "<Figure size 1080x576 with 1 Axes>"
      ]
     },
     "metadata": {
      "needs_background": "light"
     },
     "output_type": "display_data"
    }
   ],
   "source": [
    "sns.countplot(df[\"gender\"], hue=df[\"wealth_segment\"])\n",
    "plt.title(\"Wealth segment across gender\")"
   ]
  },
  {
   "cell_type": "code",
   "execution_count": 130,
   "id": "54684301",
   "metadata": {
    "scrolled": false
   },
   "outputs": [
    {
     "data": {
      "text/plain": [
       "Text(0.5, 1.0, 'Wealth Segment across age group')"
      ]
     },
     "execution_count": 130,
     "metadata": {},
     "output_type": "execute_result"
    },
    {
     "data": {
      "image/png": "[encoded data removed]",
      "text/plain": [
       "<Figure size 486.75x360 with 1 Axes>"
      ]
     },
     "metadata": {
      "needs_background": "light"
     },
     "output_type": "display_data"
    }
   ],
   "source": [
    "sns.displot(x='Age', binwidth=10, data=df, hue='wealth_segment')\n",
    "plt.title('Wealth Segment across age group')"
   ]
  },
  {
   "cell_type": "code",
   "execution_count": 134,
   "id": "f146d743",
   "metadata": {
    "scrolled": true
   },
   "outputs": [
    {
     "data": {
      "text/plain": [
       "NSW    10685\n",
       "VIC     5021\n",
       "QLD     4253\n",
       "Name: state, dtype: int64"
      ]
     },
     "execution_count": 134,
     "metadata": {},
     "output_type": "execute_result"
    }
   ],
   "source": [
    "df[\"state\"].value_counts()"
   ]
  },
  {
   "cell_type": "code",
   "execution_count": 133,
   "id": "2acd009c",
   "metadata": {},
   "outputs": [
    {
     "name": "stderr",
     "output_type": "stream",
     "text": [
      "C:\\Users\\Shreya\\anaconda3\\lib\\site-packages\\pandas\\core\\series.py:4509: SettingWithCopyWarning: \n",
      "A value is trying to be set on a copy of a slice from a DataFrame\n",
      "\n",
      "See the caveats in the documentation: https://pandas.pydata.org/pandas-docs/stable/user_guide/indexing.html#returning-a-view-versus-a-copy\n",
      "  return super().replace(\n"
     ]
    }
   ],
   "source": [
    "df[\"state\"].replace({\"New South Wales\": \"NSW\"}, inplace=True)"
   ]
  },
  {
   "cell_type": "code",
   "execution_count": 135,
   "id": "bfd1dd7c",
   "metadata": {
    "scrolled": false
   },
   "outputs": [
    {
     "name": "stderr",
     "output_type": "stream",
     "text": [
      "C:\\Users\\Shreya\\anaconda3\\lib\\site-packages\\seaborn\\_decorators.py:36: FutureWarning: Pass the following variable as a keyword arg: x. From version 0.12, the only valid positional argument will be `data`, and passing other arguments without an explicit keyword will result in an error or misinterpretation.\n",
      "  warnings.warn(\n"
     ]
    },
    {
     "data": {
      "text/plain": [
       "Text(0.5, 1.0, 'Wealth segment across state')"
      ]
     },
     "execution_count": 135,
     "metadata": {},
     "output_type": "execute_result"
    },
    {
     "data": {
      "image/png": "[encoded data removed]",
      "text/plain": [
       "<Figure size 1080x576 with 1 Axes>"
      ]
     },
     "metadata": {
      "needs_background": "light"
     },
     "output_type": "display_data"
    }
   ],
   "source": [
    "sns.countplot(df[\"state\"], hue=df[\"wealth_segment\"])\n",
    "plt.title(\"Wealth segment across state\")"
   ]
  },
  {
   "cell_type": "code",
   "execution_count": 137,
   "id": "6630d69f",
   "metadata": {
    "scrolled": true
   },
   "outputs": [
    {
     "name": "stderr",
     "output_type": "stream",
     "text": [
      "C:\\Users\\Shreya\\anaconda3\\lib\\site-packages\\seaborn\\_decorators.py:36: FutureWarning: Pass the following variable as a keyword arg: x. From version 0.12, the only valid positional argument will be `data`, and passing other arguments without an explicit keyword will result in an error or misinterpretation.\n",
      "  warnings.warn(\n"
     ]
    },
    {
     "data": {
      "text/plain": [
       "Text(0.5, 1.0, 'Job industry category across genderacross gender')"
      ]
     },
     "execution_count": 137,
     "metadata": {},
     "output_type": "execute_result"
    },
    {
     "data": {
      "image/png": "[encoded data removed]",
      "text/plain": [
       "<Figure size 1080x576 with 1 Axes>"
      ]
     },
     "metadata": {
      "needs_background": "light"
     },
     "output_type": "display_data"
    }
   ],
   "source": [
    "sns.countplot(df[\"gender\"], hue=df[\"job_industry_category\"], order = df[\"gender\"].value_counts().index)\n",
    "plt.title(\"Job industry category across genderacross gender\")"
   ]
  },
  {
   "cell_type": "code",
   "execution_count": 138,
   "id": "a564372d",
   "metadata": {
    "scrolled": true
   },
   "outputs": [
    {
     "name": "stderr",
     "output_type": "stream",
     "text": [
      "C:\\Users\\Shreya\\anaconda3\\lib\\site-packages\\seaborn\\_decorators.py:36: FutureWarning: Pass the following variable as a keyword arg: x. From version 0.12, the only valid positional argument will be `data`, and passing other arguments without an explicit keyword will result in an error or misinterpretation.\n",
      "  warnings.warn(\n"
     ]
    },
    {
     "data": {
      "text/plain": [
       "Text(0.5, 1.0, 'Number of people of different gender in different state')"
      ]
     },
     "execution_count": 138,
     "metadata": {},
     "output_type": "execute_result"
    },
    {
     "data": {
      "image/png": "[encoded data removed]",
      "text/plain": [
       "<Figure size 1080x576 with 1 Axes>"
      ]
     },
     "metadata": {
      "needs_background": "light"
     },
     "output_type": "display_data"
    }
   ],
   "source": [
    "sns.countplot(df[\"gender\"], hue=df[\"state\"])\n",
    "plt.title(\"Number of people of different gender in different state\")"
   ]
  },
  {
   "cell_type": "code",
   "execution_count": 139,
   "id": "d8181e0d",
   "metadata": {
    "scrolled": true
   },
   "outputs": [
    {
     "name": "stderr",
     "output_type": "stream",
     "text": [
      "C:\\Users\\Shreya\\anaconda3\\lib\\site-packages\\seaborn\\_decorators.py:36: FutureWarning: Pass the following variable as a keyword arg: x. From version 0.12, the only valid positional argument will be `data`, and passing other arguments without an explicit keyword will result in an error or misinterpretation.\n",
      "  warnings.warn(\n"
     ]
    },
    {
     "data": {
      "text/plain": [
       "Text(0.5, 1.0, 'Number of people in different state')"
      ]
     },
     "execution_count": 139,
     "metadata": {},
     "output_type": "execute_result"
    },
    {
     "data": {
      "image/png": "[encoded data removed]",
      "text/plain": [
       "<Figure size 1080x576 with 1 Axes>"
      ]
     },
     "metadata": {
      "needs_background": "light"
     },
     "output_type": "display_data"
    }
   ],
   "source": [
    "sns.countplot(df[\"state\"], hue=df[\"gender\"])\n",
    "plt.title(\"Number of people in different state\")"
   ]
  },
  {
   "cell_type": "code",
   "execution_count": 140,
   "id": "8ad643ff",
   "metadata": {
    "scrolled": true
   },
   "outputs": [
    {
     "name": "stderr",
     "output_type": "stream",
     "text": [
      "C:\\Users\\Shreya\\anaconda3\\lib\\site-packages\\seaborn\\_decorators.py:36: FutureWarning: Pass the following variable as a keyword arg: x. From version 0.12, the only valid positional argument will be `data`, and passing other arguments without an explicit keyword will result in an error or misinterpretation.\n",
      "  warnings.warn(\n"
     ]
    },
    {
     "data": {
      "text/plain": [
       "Text(0.5, 1.0, 'Number of people who owns a car in different state')"
      ]
     },
     "execution_count": 140,
     "metadata": {},
     "output_type": "execute_result"
    },
    {
     "data": {
      "image/png": "[encoded data removed]",
      "text/plain": [
       "<Figure size 1080x576 with 1 Axes>"
      ]
     },
     "metadata": {
      "needs_background": "light"
     },
     "output_type": "display_data"
    }
   ],
   "source": [
    "sns.countplot(df[\"state\"], hue=df[\"owns_car\"])\n",
    "plt.title('Number of people who owns a car in different state')"
   ]
  },
  {
   "cell_type": "code",
   "execution_count": 141,
   "id": "2edaba0d",
   "metadata": {
    "scrolled": true
   },
   "outputs": [
    {
     "name": "stderr",
     "output_type": "stream",
     "text": [
      "C:\\Users\\Shreya\\anaconda3\\lib\\site-packages\\seaborn\\_decorators.py:36: FutureWarning: Pass the following variables as keyword args: x, y. From version 0.12, the only valid positional argument will be `data`, and passing other arguments without an explicit keyword will result in an error or misinterpretation.\n",
      "  warnings.warn(\n"
     ]
    },
    {
     "data": {
      "text/plain": [
       "Text(0.5, 1.0, 'Boxplot showing the age range of customers')"
      ]
     },
     "execution_count": 141,
     "metadata": {},
     "output_type": "execute_result"
    },
    {
     "data": {
      "image/png": "[encoded data removed]",
      "text/plain": [
       "<Figure size 1080x576 with 1 Axes>"
      ]
     },
     "metadata": {
      "needs_background": "light"
     },
     "output_type": "display_data"
    }
   ],
   "source": [
    "sns.boxplot(df[\"gender\"], df[\"Age\"])\n",
    "plt.title('Boxplot showing the age range of customers')"
   ]
  },
  {
   "cell_type": "code",
   "execution_count": 142,
   "id": "ee6034da",
   "metadata": {
    "scrolled": true
   },
   "outputs": [
    {
     "data": {
      "text/plain": [
       "<matplotlib.collections.PathCollection at 0x2d303ee9580>"
      ]
     },
     "execution_count": 142,
     "metadata": {},
     "output_type": "execute_result"
    },
    {
     "data": {
      "image/png": "[encoded data removed]",
      "text/plain": [
       "<Figure size 1080x576 with 1 Axes>"
      ]
     },
     "metadata": {
      "needs_background": "light"
     },
     "output_type": "display_data"
    }
   ],
   "source": [
    "plt.scatter(df['profit'], df['transaction_month'], alpha=0.5)\n"
   ]
  },
  {
   "cell_type": "code",
   "execution_count": 144,
   "id": "2aead2cb",
   "metadata": {},
   "outputs": [],
   "source": [
    "df_newlist = df4"
   ]
  },
  {
   "cell_type": "code",
   "execution_count": 145,
   "id": "9635e233",
   "metadata": {},
   "outputs": [
    {
     "name": "stdout",
     "output_type": "stream",
     "text": [
      "<class 'pandas.core.frame.DataFrame'>\n",
      "RangeIndex: 1000 entries, 0 to 999\n",
      "Data columns (total 18 columns):\n",
      " #   Column                               Non-Null Count  Dtype  \n",
      "---  ------                               --------------  -----  \n",
      " 0   first_name                           1000 non-null   object \n",
      " 1   last_name                            1000 non-null   object \n",
      " 2   gender                               1000 non-null   object \n",
      " 3   past_3_years_bike_related_purchases  1000 non-null   int64  \n",
      " 4   dob                                  1000 non-null   object \n",
      " 5   job_title                            1000 non-null   object \n",
      " 6   job_industry_category                1000 non-null   object \n",
      " 7   wealth_segment                       1000 non-null   object \n",
      " 8   deceased_indicator                   1000 non-null   object \n",
      " 9   owns_car                             1000 non-null   object \n",
      " 10  tenure                               1000 non-null   int64  \n",
      " 11  address                              1000 non-null   object \n",
      " 12  postcode                             1000 non-null   int64  \n",
      " 13  state                                1000 non-null   object \n",
      " 14  country                              1000 non-null   object \n",
      " 15  property_valuation                   1000 non-null   int64  \n",
      " 16  rank                                 1000 non-null   int64  \n",
      " 17  value                                1000 non-null   float64\n",
      "dtypes: float64(1), int64(5), object(12)\n",
      "memory usage: 140.8+ KB\n"
     ]
    }
   ],
   "source": [
    "df_newlist.info()"
   ]
  },
  {
   "cell_type": "code",
   "execution_count": 146,
   "id": "dee28a59",
   "metadata": {},
   "outputs": [
    {
     "data": {
      "text/html": [
       "<div>\n",
       "<style scoped>\n",
       "    .dataframe tbody tr th:only-of-type {\n",
       "        vertical-align: middle;\n",
       "    }\n",
       "\n",
       "    .dataframe tbody tr th {\n",
       "        vertical-align: top;\n",
       "    }\n",
       "\n",
       "    .dataframe thead th {\n",
       "        text-align: right;\n",
       "    }\n",
       "</style>\n",
       "<table border=\"1\" class=\"dataframe\">\n",
       "  <thead>\n",
       "    <tr style=\"text-align: right;\">\n",
       "      <th></th>\n",
       "      <th>first_name</th>\n",
       "      <th>last_name</th>\n",
       "      <th>gender</th>\n",
       "      <th>past_3_years_bike_related_purchases</th>\n",
       "      <th>dob</th>\n",
       "      <th>job_title</th>\n",
       "      <th>job_industry_category</th>\n",
       "      <th>wealth_segment</th>\n",
       "      <th>deceased_indicator</th>\n",
       "      <th>owns_car</th>\n",
       "      <th>tenure</th>\n",
       "      <th>address</th>\n",
       "      <th>postcode</th>\n",
       "      <th>state</th>\n",
       "      <th>country</th>\n",
       "      <th>property_valuation</th>\n",
       "      <th>rank</th>\n",
       "      <th>value</th>\n",
       "    </tr>\n",
       "  </thead>\n",
       "  <tbody>\n",
       "    <tr>\n",
       "      <th>0</th>\n",
       "      <td>Chickie</td>\n",
       "      <td>Brister</td>\n",
       "      <td>Male</td>\n",
       "      <td>86</td>\n",
       "      <td>1957-07-12</td>\n",
       "      <td>General Manager</td>\n",
       "      <td>Manufacturing</td>\n",
       "      <td>Mass Customer</td>\n",
       "      <td>N</td>\n",
       "      <td>Yes</td>\n",
       "      <td>14</td>\n",
       "      <td>45 Shopko Center</td>\n",
       "      <td>4500</td>\n",
       "      <td>QLD</td>\n",
       "      <td>Australia</td>\n",
       "      <td>6</td>\n",
       "      <td>1</td>\n",
       "      <td>1.718750</td>\n",
       "    </tr>\n",
       "    <tr>\n",
       "      <th>1</th>\n",
       "      <td>Morly</td>\n",
       "      <td>Genery</td>\n",
       "      <td>Male</td>\n",
       "      <td>69</td>\n",
       "      <td>1970-03-22</td>\n",
       "      <td>Structural Engineer</td>\n",
       "      <td>Property</td>\n",
       "      <td>Mass Customer</td>\n",
       "      <td>N</td>\n",
       "      <td>No</td>\n",
       "      <td>16</td>\n",
       "      <td>14 Mccormick Park</td>\n",
       "      <td>2113</td>\n",
       "      <td>NSW</td>\n",
       "      <td>Australia</td>\n",
       "      <td>11</td>\n",
       "      <td>1</td>\n",
       "      <td>1.718750</td>\n",
       "    </tr>\n",
       "    <tr>\n",
       "      <th>2</th>\n",
       "      <td>Ardelis</td>\n",
       "      <td>Forrester</td>\n",
       "      <td>Female</td>\n",
       "      <td>10</td>\n",
       "      <td>1974-08-28</td>\n",
       "      <td>Senior Cost Accountant</td>\n",
       "      <td>Financial Services</td>\n",
       "      <td>Affluent Customer</td>\n",
       "      <td>N</td>\n",
       "      <td>No</td>\n",
       "      <td>10</td>\n",
       "      <td>5 Colorado Crossing</td>\n",
       "      <td>3505</td>\n",
       "      <td>VIC</td>\n",
       "      <td>Australia</td>\n",
       "      <td>5</td>\n",
       "      <td>1</td>\n",
       "      <td>1.718750</td>\n",
       "    </tr>\n",
       "    <tr>\n",
       "      <th>3</th>\n",
       "      <td>Lucine</td>\n",
       "      <td>Stutt</td>\n",
       "      <td>Female</td>\n",
       "      <td>64</td>\n",
       "      <td>1979-01-28</td>\n",
       "      <td>Account Representative III</td>\n",
       "      <td>Manufacturing</td>\n",
       "      <td>Affluent Customer</td>\n",
       "      <td>N</td>\n",
       "      <td>Yes</td>\n",
       "      <td>5</td>\n",
       "      <td>207 Annamark Plaza</td>\n",
       "      <td>4814</td>\n",
       "      <td>QLD</td>\n",
       "      <td>Australia</td>\n",
       "      <td>1</td>\n",
       "      <td>4</td>\n",
       "      <td>1.703125</td>\n",
       "    </tr>\n",
       "    <tr>\n",
       "      <th>4</th>\n",
       "      <td>Melinda</td>\n",
       "      <td>Hadlee</td>\n",
       "      <td>Female</td>\n",
       "      <td>34</td>\n",
       "      <td>1965-09-21</td>\n",
       "      <td>Financial Analyst</td>\n",
       "      <td>Financial Services</td>\n",
       "      <td>Affluent Customer</td>\n",
       "      <td>N</td>\n",
       "      <td>No</td>\n",
       "      <td>19</td>\n",
       "      <td>115 Montana Place</td>\n",
       "      <td>2093</td>\n",
       "      <td>NSW</td>\n",
       "      <td>Australia</td>\n",
       "      <td>9</td>\n",
       "      <td>4</td>\n",
       "      <td>1.703125</td>\n",
       "    </tr>\n",
       "    <tr>\n",
       "      <th>...</th>\n",
       "      <td>...</td>\n",
       "      <td>...</td>\n",
       "      <td>...</td>\n",
       "      <td>...</td>\n",
       "      <td>...</td>\n",
       "      <td>...</td>\n",
       "      <td>...</td>\n",
       "      <td>...</td>\n",
       "      <td>...</td>\n",
       "      <td>...</td>\n",
       "      <td>...</td>\n",
       "      <td>...</td>\n",
       "      <td>...</td>\n",
       "      <td>...</td>\n",
       "      <td>...</td>\n",
       "      <td>...</td>\n",
       "      <td>...</td>\n",
       "      <td>...</td>\n",
       "    </tr>\n",
       "    <tr>\n",
       "      <th>995</th>\n",
       "      <td>Ferdinand</td>\n",
       "      <td>Romanetti</td>\n",
       "      <td>Male</td>\n",
       "      <td>60</td>\n",
       "      <td>1959-10-07</td>\n",
       "      <td>Paralegal</td>\n",
       "      <td>Financial Services</td>\n",
       "      <td>Affluent Customer</td>\n",
       "      <td>N</td>\n",
       "      <td>No</td>\n",
       "      <td>9</td>\n",
       "      <td>2 Sloan Way</td>\n",
       "      <td>2200</td>\n",
       "      <td>NSW</td>\n",
       "      <td>Australia</td>\n",
       "      <td>7</td>\n",
       "      <td>996</td>\n",
       "      <td>0.374000</td>\n",
       "    </tr>\n",
       "    <tr>\n",
       "      <th>996</th>\n",
       "      <td>Burk</td>\n",
       "      <td>Wortley</td>\n",
       "      <td>Male</td>\n",
       "      <td>22</td>\n",
       "      <td>2001-10-17</td>\n",
       "      <td>Senior Sales Associate</td>\n",
       "      <td>Health</td>\n",
       "      <td>Mass Customer</td>\n",
       "      <td>N</td>\n",
       "      <td>No</td>\n",
       "      <td>6</td>\n",
       "      <td>04 Union Crossing</td>\n",
       "      <td>2196</td>\n",
       "      <td>NSW</td>\n",
       "      <td>Australia</td>\n",
       "      <td>10</td>\n",
       "      <td>997</td>\n",
       "      <td>0.357000</td>\n",
       "    </tr>\n",
       "    <tr>\n",
       "      <th>997</th>\n",
       "      <td>Melloney</td>\n",
       "      <td>Temby</td>\n",
       "      <td>Female</td>\n",
       "      <td>17</td>\n",
       "      <td>1954-10-05</td>\n",
       "      <td>Budget/Accounting Analyst IV</td>\n",
       "      <td>Financial Services</td>\n",
       "      <td>Affluent Customer</td>\n",
       "      <td>N</td>\n",
       "      <td>Yes</td>\n",
       "      <td>15</td>\n",
       "      <td>33475 Fair Oaks Junction</td>\n",
       "      <td>4702</td>\n",
       "      <td>QLD</td>\n",
       "      <td>Australia</td>\n",
       "      <td>2</td>\n",
       "      <td>997</td>\n",
       "      <td>0.357000</td>\n",
       "    </tr>\n",
       "    <tr>\n",
       "      <th>998</th>\n",
       "      <td>Dickie</td>\n",
       "      <td>Cubbini</td>\n",
       "      <td>Male</td>\n",
       "      <td>30</td>\n",
       "      <td>1952-12-17</td>\n",
       "      <td>Financial Advisor</td>\n",
       "      <td>Financial Services</td>\n",
       "      <td>Mass Customer</td>\n",
       "      <td>N</td>\n",
       "      <td>Yes</td>\n",
       "      <td>19</td>\n",
       "      <td>57666 Victoria Way</td>\n",
       "      <td>4215</td>\n",
       "      <td>QLD</td>\n",
       "      <td>Australia</td>\n",
       "      <td>2</td>\n",
       "      <td>997</td>\n",
       "      <td>0.357000</td>\n",
       "    </tr>\n",
       "    <tr>\n",
       "      <th>999</th>\n",
       "      <td>Sylas</td>\n",
       "      <td>Duffill</td>\n",
       "      <td>Male</td>\n",
       "      <td>56</td>\n",
       "      <td>1955-10-02</td>\n",
       "      <td>Staff Accountant IV</td>\n",
       "      <td>Property</td>\n",
       "      <td>Mass Customer</td>\n",
       "      <td>N</td>\n",
       "      <td>Yes</td>\n",
       "      <td>14</td>\n",
       "      <td>21875 Grover Drive</td>\n",
       "      <td>2010</td>\n",
       "      <td>NSW</td>\n",
       "      <td>Australia</td>\n",
       "      <td>9</td>\n",
       "      <td>1000</td>\n",
       "      <td>0.340000</td>\n",
       "    </tr>\n",
       "  </tbody>\n",
       "</table>\n",
       "<p>1000 rows × 18 columns</p>\n",
       "</div>"
      ],
      "text/plain": [
       "    first_name  last_name  gender  past_3_years_bike_related_purchases  \\\n",
       "0      Chickie    Brister    Male                                   86   \n",
       "1        Morly     Genery    Male                                   69   \n",
       "2      Ardelis  Forrester  Female                                   10   \n",
       "3       Lucine      Stutt  Female                                   64   \n",
       "4      Melinda     Hadlee  Female                                   34   \n",
       "..         ...        ...     ...                                  ...   \n",
       "995  Ferdinand  Romanetti    Male                                   60   \n",
       "996       Burk    Wortley    Male                                   22   \n",
       "997   Melloney      Temby  Female                                   17   \n",
       "998     Dickie    Cubbini    Male                                   30   \n",
       "999      Sylas    Duffill    Male                                   56   \n",
       "\n",
       "            dob                     job_title job_industry_category  \\\n",
       "0    1957-07-12               General Manager         Manufacturing   \n",
       "1    1970-03-22           Structural Engineer              Property   \n",
       "2    1974-08-28        Senior Cost Accountant    Financial Services   \n",
       "3    1979-01-28    Account Representative III         Manufacturing   \n",
       "4    1965-09-21             Financial Analyst    Financial Services   \n",
       "..          ...                           ...                   ...   \n",
       "995  1959-10-07                     Paralegal    Financial Services   \n",
       "996  2001-10-17        Senior Sales Associate                Health   \n",
       "997  1954-10-05  Budget/Accounting Analyst IV    Financial Services   \n",
       "998  1952-12-17             Financial Advisor    Financial Services   \n",
       "999  1955-10-02           Staff Accountant IV              Property   \n",
       "\n",
       "        wealth_segment deceased_indicator owns_car  tenure  \\\n",
       "0        Mass Customer                  N      Yes      14   \n",
       "1        Mass Customer                  N       No      16   \n",
       "2    Affluent Customer                  N       No      10   \n",
       "3    Affluent Customer                  N      Yes       5   \n",
       "4    Affluent Customer                  N       No      19   \n",
       "..                 ...                ...      ...     ...   \n",
       "995  Affluent Customer                  N       No       9   \n",
       "996      Mass Customer                  N       No       6   \n",
       "997  Affluent Customer                  N      Yes      15   \n",
       "998      Mass Customer                  N      Yes      19   \n",
       "999      Mass Customer                  N      Yes      14   \n",
       "\n",
       "                      address  postcode state    country  property_valuation  \\\n",
       "0            45 Shopko Center      4500   QLD  Australia                   6   \n",
       "1           14 Mccormick Park      2113   NSW  Australia                  11   \n",
       "2         5 Colorado Crossing      3505   VIC  Australia                   5   \n",
       "3          207 Annamark Plaza      4814   QLD  Australia                   1   \n",
       "4           115 Montana Place      2093   NSW  Australia                   9   \n",
       "..                        ...       ...   ...        ...                 ...   \n",
       "995               2 Sloan Way      2200   NSW  Australia                   7   \n",
       "996         04 Union Crossing      2196   NSW  Australia                  10   \n",
       "997  33475 Fair Oaks Junction      4702   QLD  Australia                   2   \n",
       "998        57666 Victoria Way      4215   QLD  Australia                   2   \n",
       "999        21875 Grover Drive      2010   NSW  Australia                   9   \n",
       "\n",
       "     rank     value  \n",
       "0       1  1.718750  \n",
       "1       1  1.718750  \n",
       "2       1  1.718750  \n",
       "3       4  1.703125  \n",
       "4       4  1.703125  \n",
       "..    ...       ...  \n",
       "995   996  0.374000  \n",
       "996   997  0.357000  \n",
       "997   997  0.357000  \n",
       "998   997  0.357000  \n",
       "999  1000  0.340000  \n",
       "\n",
       "[1000 rows x 18 columns]"
      ]
     },
     "execution_count": 146,
     "metadata": {},
     "output_type": "execute_result"
    }
   ],
   "source": [
    "df_newlist"
   ]
  },
  {
   "cell_type": "code",
   "execution_count": 147,
   "id": "4096d914",
   "metadata": {},
   "outputs": [
    {
     "data": {
      "text/html": [
       "<div>\n",
       "<style scoped>\n",
       "    .dataframe tbody tr th:only-of-type {\n",
       "        vertical-align: middle;\n",
       "    }\n",
       "\n",
       "    .dataframe tbody tr th {\n",
       "        vertical-align: top;\n",
       "    }\n",
       "\n",
       "    .dataframe thead th {\n",
       "        text-align: right;\n",
       "    }\n",
       "</style>\n",
       "<table border=\"1\" class=\"dataframe\">\n",
       "  <thead>\n",
       "    <tr style=\"text-align: right;\">\n",
       "      <th></th>\n",
       "      <th>past_3_years_bike_related_purchases</th>\n",
       "      <th>tenure</th>\n",
       "      <th>postcode</th>\n",
       "      <th>property_valuation</th>\n",
       "      <th>rank</th>\n",
       "      <th>value</th>\n",
       "    </tr>\n",
       "  </thead>\n",
       "  <tbody>\n",
       "    <tr>\n",
       "      <th>count</th>\n",
       "      <td>1000.000000</td>\n",
       "      <td>1000.000000</td>\n",
       "      <td>1000.000000</td>\n",
       "      <td>1000.000000</td>\n",
       "      <td>1000.000000</td>\n",
       "      <td>1000.000000</td>\n",
       "    </tr>\n",
       "    <tr>\n",
       "      <th>mean</th>\n",
       "      <td>49.836000</td>\n",
       "      <td>11.388000</td>\n",
       "      <td>3019.227000</td>\n",
       "      <td>7.397000</td>\n",
       "      <td>498.819000</td>\n",
       "      <td>0.881714</td>\n",
       "    </tr>\n",
       "    <tr>\n",
       "      <th>std</th>\n",
       "      <td>27.796686</td>\n",
       "      <td>5.037145</td>\n",
       "      <td>848.895767</td>\n",
       "      <td>2.758804</td>\n",
       "      <td>288.810997</td>\n",
       "      <td>0.293525</td>\n",
       "    </tr>\n",
       "    <tr>\n",
       "      <th>min</th>\n",
       "      <td>0.000000</td>\n",
       "      <td>0.000000</td>\n",
       "      <td>2000.000000</td>\n",
       "      <td>1.000000</td>\n",
       "      <td>1.000000</td>\n",
       "      <td>0.340000</td>\n",
       "    </tr>\n",
       "    <tr>\n",
       "      <th>25%</th>\n",
       "      <td>26.750000</td>\n",
       "      <td>7.000000</td>\n",
       "      <td>2209.000000</td>\n",
       "      <td>6.000000</td>\n",
       "      <td>250.000000</td>\n",
       "      <td>0.649531</td>\n",
       "    </tr>\n",
       "    <tr>\n",
       "      <th>50%</th>\n",
       "      <td>51.000000</td>\n",
       "      <td>11.000000</td>\n",
       "      <td>2800.000000</td>\n",
       "      <td>8.000000</td>\n",
       "      <td>500.000000</td>\n",
       "      <td>0.860000</td>\n",
       "    </tr>\n",
       "    <tr>\n",
       "      <th>75%</th>\n",
       "      <td>72.000000</td>\n",
       "      <td>15.000000</td>\n",
       "      <td>3845.500000</td>\n",
       "      <td>9.000000</td>\n",
       "      <td>750.250000</td>\n",
       "      <td>1.075000</td>\n",
       "    </tr>\n",
       "    <tr>\n",
       "      <th>max</th>\n",
       "      <td>99.000000</td>\n",
       "      <td>22.000000</td>\n",
       "      <td>4879.000000</td>\n",
       "      <td>12.000000</td>\n",
       "      <td>1000.000000</td>\n",
       "      <td>1.718750</td>\n",
       "    </tr>\n",
       "  </tbody>\n",
       "</table>\n",
       "</div>"
      ],
      "text/plain": [
       "       past_3_years_bike_related_purchases       tenure     postcode  \\\n",
       "count                          1000.000000  1000.000000  1000.000000   \n",
       "mean                             49.836000    11.388000  3019.227000   \n",
       "std                              27.796686     5.037145   848.895767   \n",
       "min                               0.000000     0.000000  2000.000000   \n",
       "25%                              26.750000     7.000000  2209.000000   \n",
       "50%                              51.000000    11.000000  2800.000000   \n",
       "75%                              72.000000    15.000000  3845.500000   \n",
       "max                              99.000000    22.000000  4879.000000   \n",
       "\n",
       "       property_valuation         rank        value  \n",
       "count         1000.000000  1000.000000  1000.000000  \n",
       "mean             7.397000   498.819000     0.881714  \n",
       "std              2.758804   288.810997     0.293525  \n",
       "min              1.000000     1.000000     0.340000  \n",
       "25%              6.000000   250.000000     0.649531  \n",
       "50%              8.000000   500.000000     0.860000  \n",
       "75%              9.000000   750.250000     1.075000  \n",
       "max             12.000000  1000.000000     1.718750  "
      ]
     },
     "execution_count": 147,
     "metadata": {},
     "output_type": "execute_result"
    }
   ],
   "source": [
    "df_newlist.describe()"
   ]
  },
  {
   "cell_type": "code",
   "execution_count": 149,
   "id": "683be223",
   "metadata": {},
   "outputs": [
    {
     "data": {
      "text/plain": [
       "0"
      ]
     },
     "execution_count": 149,
     "metadata": {},
     "output_type": "execute_result"
    }
   ],
   "source": [
    "df_newlist.duplicated().sum()"
   ]
  },
  {
   "cell_type": "code",
   "execution_count": 150,
   "id": "de91255d",
   "metadata": {},
   "outputs": [
    {
     "data": {
      "text/plain": [
       "first_name                             0\n",
       "last_name                              0\n",
       "gender                                 0\n",
       "past_3_years_bike_related_purchases    0\n",
       "dob                                    0\n",
       "job_title                              0\n",
       "job_industry_category                  0\n",
       "wealth_segment                         0\n",
       "deceased_indicator                     0\n",
       "owns_car                               0\n",
       "tenure                                 0\n",
       "address                                0\n",
       "postcode                               0\n",
       "state                                  0\n",
       "country                                0\n",
       "property_valuation                     0\n",
       "rank                                   0\n",
       "value                                  0\n",
       "dtype: int64"
      ]
     },
     "execution_count": 150,
     "metadata": {},
     "output_type": "execute_result"
    }
   ],
   "source": [
    "df_newlist.isnull().sum()"
   ]
  },
  {
   "cell_type": "code",
   "execution_count": 151,
   "id": "79f25c01",
   "metadata": {},
   "outputs": [],
   "source": [
    "df_newlist[\"new_id\"] = df_newlist.index"
   ]
  },
  {
   "cell_type": "code",
   "execution_count": 152,
   "id": "ea66a04f",
   "metadata": {},
   "outputs": [],
   "source": [
    "df_newlist['dob'] = pd.to_datetime(df_newlist['dob'], errors='coerce')"
   ]
  },
  {
   "cell_type": "code",
   "execution_count": 153,
   "id": "f9decea7",
   "metadata": {},
   "outputs": [
    {
     "data": {
      "text/plain": [
       "first_name                                     object\n",
       "last_name                                      object\n",
       "gender                                         object\n",
       "past_3_years_bike_related_purchases             int64\n",
       "dob                                    datetime64[ns]\n",
       "job_title                                      object\n",
       "job_industry_category                          object\n",
       "wealth_segment                                 object\n",
       "deceased_indicator                             object\n",
       "owns_car                                       object\n",
       "tenure                                          int64\n",
       "address                                        object\n",
       "postcode                                        int64\n",
       "state                                          object\n",
       "country                                        object\n",
       "property_valuation                              int64\n",
       "rank                                            int64\n",
       "value                                         float64\n",
       "new_id                                          int64\n",
       "dtype: object"
      ]
     },
     "execution_count": 153,
     "metadata": {},
     "output_type": "execute_result"
    }
   ],
   "source": [
    "df_newlist.dtypes"
   ]
  },
  {
   "cell_type": "code",
   "execution_count": 154,
   "id": "1f0cc436",
   "metadata": {},
   "outputs": [],
   "source": [
    "df_newlist['dob'] = df_newlist['dob'].apply(lambda x: x.strftime('%Y-%m-%d')if not pd.isnull(x) else '')"
   ]
  },
  {
   "cell_type": "code",
   "execution_count": 157,
   "id": "3ff8246f",
   "metadata": {},
   "outputs": [
    {
     "data": {
      "text/plain": [
       "0     1957-07-12\n",
       "1     1970-03-22\n",
       "2     1974-08-28\n",
       "3     1979-01-28\n",
       "4     1965-09-21\n",
       "         ...    \n",
       "995   1959-10-07\n",
       "996   2001-10-17\n",
       "997   1954-10-05\n",
       "998   1952-12-17\n",
       "999   1955-10-02\n",
       "Name: dob, Length: 1000, dtype: datetime64[ns]"
      ]
     },
     "execution_count": 157,
     "metadata": {},
     "output_type": "execute_result"
    }
   ],
   "source": [
    "df_newlist['dob'].astype('datetime64')"
   ]
  },
  {
   "cell_type": "code",
   "execution_count": 158,
   "id": "02da5bfe",
   "metadata": {},
   "outputs": [],
   "source": [
    "df_newlist['dob'] = df_newlist['dob'].fillna(df_newlist['dob'].mode())"
   ]
  },
  {
   "cell_type": "code",
   "execution_count": 159,
   "id": "4decec0f",
   "metadata": {},
   "outputs": [],
   "source": [
    "ref_date2 = dt.datetime.now()\n",
    "df_newlist['Age'] = df_newlist['dob'].apply(lambda x: len(pd.date_range(start = x, end = ref_date2, freq = 'Y')) if str(x) else None)"
   ]
  },
  {
   "cell_type": "code",
   "execution_count": 160,
   "id": "b261630e",
   "metadata": {},
   "outputs": [
    {
     "data": {
      "text/html": [
       "<div>\n",
       "<style scoped>\n",
       "    .dataframe tbody tr th:only-of-type {\n",
       "        vertical-align: middle;\n",
       "    }\n",
       "\n",
       "    .dataframe tbody tr th {\n",
       "        vertical-align: top;\n",
       "    }\n",
       "\n",
       "    .dataframe thead th {\n",
       "        text-align: right;\n",
       "    }\n",
       "</style>\n",
       "<table border=\"1\" class=\"dataframe\">\n",
       "  <thead>\n",
       "    <tr style=\"text-align: right;\">\n",
       "      <th></th>\n",
       "      <th>first_name</th>\n",
       "      <th>last_name</th>\n",
       "      <th>gender</th>\n",
       "      <th>past_3_years_bike_related_purchases</th>\n",
       "      <th>dob</th>\n",
       "      <th>job_title</th>\n",
       "      <th>job_industry_category</th>\n",
       "      <th>wealth_segment</th>\n",
       "      <th>deceased_indicator</th>\n",
       "      <th>owns_car</th>\n",
       "      <th>tenure</th>\n",
       "      <th>address</th>\n",
       "      <th>postcode</th>\n",
       "      <th>state</th>\n",
       "      <th>country</th>\n",
       "      <th>property_valuation</th>\n",
       "      <th>rank</th>\n",
       "      <th>value</th>\n",
       "      <th>new_id</th>\n",
       "      <th>Age</th>\n",
       "    </tr>\n",
       "  </thead>\n",
       "  <tbody>\n",
       "    <tr>\n",
       "      <th>0</th>\n",
       "      <td>Chickie</td>\n",
       "      <td>Brister</td>\n",
       "      <td>Male</td>\n",
       "      <td>86</td>\n",
       "      <td>1957-07-12</td>\n",
       "      <td>General Manager</td>\n",
       "      <td>Manufacturing</td>\n",
       "      <td>Mass Customer</td>\n",
       "      <td>N</td>\n",
       "      <td>Yes</td>\n",
       "      <td>14</td>\n",
       "      <td>45 Shopko Center</td>\n",
       "      <td>4500</td>\n",
       "      <td>QLD</td>\n",
       "      <td>Australia</td>\n",
       "      <td>6</td>\n",
       "      <td>1</td>\n",
       "      <td>1.718750</td>\n",
       "      <td>0</td>\n",
       "      <td>65.0</td>\n",
       "    </tr>\n",
       "    <tr>\n",
       "      <th>1</th>\n",
       "      <td>Morly</td>\n",
       "      <td>Genery</td>\n",
       "      <td>Male</td>\n",
       "      <td>69</td>\n",
       "      <td>1970-03-22</td>\n",
       "      <td>Structural Engineer</td>\n",
       "      <td>Property</td>\n",
       "      <td>Mass Customer</td>\n",
       "      <td>N</td>\n",
       "      <td>No</td>\n",
       "      <td>16</td>\n",
       "      <td>14 Mccormick Park</td>\n",
       "      <td>2113</td>\n",
       "      <td>NSW</td>\n",
       "      <td>Australia</td>\n",
       "      <td>11</td>\n",
       "      <td>1</td>\n",
       "      <td>1.718750</td>\n",
       "      <td>1</td>\n",
       "      <td>52.0</td>\n",
       "    </tr>\n",
       "    <tr>\n",
       "      <th>2</th>\n",
       "      <td>Ardelis</td>\n",
       "      <td>Forrester</td>\n",
       "      <td>Female</td>\n",
       "      <td>10</td>\n",
       "      <td>1974-08-28</td>\n",
       "      <td>Senior Cost Accountant</td>\n",
       "      <td>Financial Services</td>\n",
       "      <td>Affluent Customer</td>\n",
       "      <td>N</td>\n",
       "      <td>No</td>\n",
       "      <td>10</td>\n",
       "      <td>5 Colorado Crossing</td>\n",
       "      <td>3505</td>\n",
       "      <td>VIC</td>\n",
       "      <td>Australia</td>\n",
       "      <td>5</td>\n",
       "      <td>1</td>\n",
       "      <td>1.718750</td>\n",
       "      <td>2</td>\n",
       "      <td>48.0</td>\n",
       "    </tr>\n",
       "    <tr>\n",
       "      <th>3</th>\n",
       "      <td>Lucine</td>\n",
       "      <td>Stutt</td>\n",
       "      <td>Female</td>\n",
       "      <td>64</td>\n",
       "      <td>1979-01-28</td>\n",
       "      <td>Account Representative III</td>\n",
       "      <td>Manufacturing</td>\n",
       "      <td>Affluent Customer</td>\n",
       "      <td>N</td>\n",
       "      <td>Yes</td>\n",
       "      <td>5</td>\n",
       "      <td>207 Annamark Plaza</td>\n",
       "      <td>4814</td>\n",
       "      <td>QLD</td>\n",
       "      <td>Australia</td>\n",
       "      <td>1</td>\n",
       "      <td>4</td>\n",
       "      <td>1.703125</td>\n",
       "      <td>3</td>\n",
       "      <td>43.0</td>\n",
       "    </tr>\n",
       "    <tr>\n",
       "      <th>4</th>\n",
       "      <td>Melinda</td>\n",
       "      <td>Hadlee</td>\n",
       "      <td>Female</td>\n",
       "      <td>34</td>\n",
       "      <td>1965-09-21</td>\n",
       "      <td>Financial Analyst</td>\n",
       "      <td>Financial Services</td>\n",
       "      <td>Affluent Customer</td>\n",
       "      <td>N</td>\n",
       "      <td>No</td>\n",
       "      <td>19</td>\n",
       "      <td>115 Montana Place</td>\n",
       "      <td>2093</td>\n",
       "      <td>NSW</td>\n",
       "      <td>Australia</td>\n",
       "      <td>9</td>\n",
       "      <td>4</td>\n",
       "      <td>1.703125</td>\n",
       "      <td>4</td>\n",
       "      <td>57.0</td>\n",
       "    </tr>\n",
       "    <tr>\n",
       "      <th>...</th>\n",
       "      <td>...</td>\n",
       "      <td>...</td>\n",
       "      <td>...</td>\n",
       "      <td>...</td>\n",
       "      <td>...</td>\n",
       "      <td>...</td>\n",
       "      <td>...</td>\n",
       "      <td>...</td>\n",
       "      <td>...</td>\n",
       "      <td>...</td>\n",
       "      <td>...</td>\n",
       "      <td>...</td>\n",
       "      <td>...</td>\n",
       "      <td>...</td>\n",
       "      <td>...</td>\n",
       "      <td>...</td>\n",
       "      <td>...</td>\n",
       "      <td>...</td>\n",
       "      <td>...</td>\n",
       "      <td>...</td>\n",
       "    </tr>\n",
       "    <tr>\n",
       "      <th>995</th>\n",
       "      <td>Ferdinand</td>\n",
       "      <td>Romanetti</td>\n",
       "      <td>Male</td>\n",
       "      <td>60</td>\n",
       "      <td>1959-10-07</td>\n",
       "      <td>Paralegal</td>\n",
       "      <td>Financial Services</td>\n",
       "      <td>Affluent Customer</td>\n",
       "      <td>N</td>\n",
       "      <td>No</td>\n",
       "      <td>9</td>\n",
       "      <td>2 Sloan Way</td>\n",
       "      <td>2200</td>\n",
       "      <td>NSW</td>\n",
       "      <td>Australia</td>\n",
       "      <td>7</td>\n",
       "      <td>996</td>\n",
       "      <td>0.374000</td>\n",
       "      <td>995</td>\n",
       "      <td>63.0</td>\n",
       "    </tr>\n",
       "    <tr>\n",
       "      <th>996</th>\n",
       "      <td>Burk</td>\n",
       "      <td>Wortley</td>\n",
       "      <td>Male</td>\n",
       "      <td>22</td>\n",
       "      <td>2001-10-17</td>\n",
       "      <td>Senior Sales Associate</td>\n",
       "      <td>Health</td>\n",
       "      <td>Mass Customer</td>\n",
       "      <td>N</td>\n",
       "      <td>No</td>\n",
       "      <td>6</td>\n",
       "      <td>04 Union Crossing</td>\n",
       "      <td>2196</td>\n",
       "      <td>NSW</td>\n",
       "      <td>Australia</td>\n",
       "      <td>10</td>\n",
       "      <td>997</td>\n",
       "      <td>0.357000</td>\n",
       "      <td>996</td>\n",
       "      <td>21.0</td>\n",
       "    </tr>\n",
       "    <tr>\n",
       "      <th>997</th>\n",
       "      <td>Melloney</td>\n",
       "      <td>Temby</td>\n",
       "      <td>Female</td>\n",
       "      <td>17</td>\n",
       "      <td>1954-10-05</td>\n",
       "      <td>Budget/Accounting Analyst IV</td>\n",
       "      <td>Financial Services</td>\n",
       "      <td>Affluent Customer</td>\n",
       "      <td>N</td>\n",
       "      <td>Yes</td>\n",
       "      <td>15</td>\n",
       "      <td>33475 Fair Oaks Junction</td>\n",
       "      <td>4702</td>\n",
       "      <td>QLD</td>\n",
       "      <td>Australia</td>\n",
       "      <td>2</td>\n",
       "      <td>997</td>\n",
       "      <td>0.357000</td>\n",
       "      <td>997</td>\n",
       "      <td>68.0</td>\n",
       "    </tr>\n",
       "    <tr>\n",
       "      <th>998</th>\n",
       "      <td>Dickie</td>\n",
       "      <td>Cubbini</td>\n",
       "      <td>Male</td>\n",
       "      <td>30</td>\n",
       "      <td>1952-12-17</td>\n",
       "      <td>Financial Advisor</td>\n",
       "      <td>Financial Services</td>\n",
       "      <td>Mass Customer</td>\n",
       "      <td>N</td>\n",
       "      <td>Yes</td>\n",
       "      <td>19</td>\n",
       "      <td>57666 Victoria Way</td>\n",
       "      <td>4215</td>\n",
       "      <td>QLD</td>\n",
       "      <td>Australia</td>\n",
       "      <td>2</td>\n",
       "      <td>997</td>\n",
       "      <td>0.357000</td>\n",
       "      <td>998</td>\n",
       "      <td>70.0</td>\n",
       "    </tr>\n",
       "    <tr>\n",
       "      <th>999</th>\n",
       "      <td>Sylas</td>\n",
       "      <td>Duffill</td>\n",
       "      <td>Male</td>\n",
       "      <td>56</td>\n",
       "      <td>1955-10-02</td>\n",
       "      <td>Staff Accountant IV</td>\n",
       "      <td>Property</td>\n",
       "      <td>Mass Customer</td>\n",
       "      <td>N</td>\n",
       "      <td>Yes</td>\n",
       "      <td>14</td>\n",
       "      <td>21875 Grover Drive</td>\n",
       "      <td>2010</td>\n",
       "      <td>NSW</td>\n",
       "      <td>Australia</td>\n",
       "      <td>9</td>\n",
       "      <td>1000</td>\n",
       "      <td>0.340000</td>\n",
       "      <td>999</td>\n",
       "      <td>67.0</td>\n",
       "    </tr>\n",
       "  </tbody>\n",
       "</table>\n",
       "<p>1000 rows × 20 columns</p>\n",
       "</div>"
      ],
      "text/plain": [
       "    first_name  last_name  gender  past_3_years_bike_related_purchases  \\\n",
       "0      Chickie    Brister    Male                                   86   \n",
       "1        Morly     Genery    Male                                   69   \n",
       "2      Ardelis  Forrester  Female                                   10   \n",
       "3       Lucine      Stutt  Female                                   64   \n",
       "4      Melinda     Hadlee  Female                                   34   \n",
       "..         ...        ...     ...                                  ...   \n",
       "995  Ferdinand  Romanetti    Male                                   60   \n",
       "996       Burk    Wortley    Male                                   22   \n",
       "997   Melloney      Temby  Female                                   17   \n",
       "998     Dickie    Cubbini    Male                                   30   \n",
       "999      Sylas    Duffill    Male                                   56   \n",
       "\n",
       "            dob                     job_title job_industry_category  \\\n",
       "0    1957-07-12               General Manager         Manufacturing   \n",
       "1    1970-03-22           Structural Engineer              Property   \n",
       "2    1974-08-28        Senior Cost Accountant    Financial Services   \n",
       "3    1979-01-28    Account Representative III         Manufacturing   \n",
       "4    1965-09-21             Financial Analyst    Financial Services   \n",
       "..          ...                           ...                   ...   \n",
       "995  1959-10-07                     Paralegal    Financial Services   \n",
       "996  2001-10-17        Senior Sales Associate                Health   \n",
       "997  1954-10-05  Budget/Accounting Analyst IV    Financial Services   \n",
       "998  1952-12-17             Financial Advisor    Financial Services   \n",
       "999  1955-10-02           Staff Accountant IV              Property   \n",
       "\n",
       "        wealth_segment deceased_indicator owns_car  tenure  \\\n",
       "0        Mass Customer                  N      Yes      14   \n",
       "1        Mass Customer                  N       No      16   \n",
       "2    Affluent Customer                  N       No      10   \n",
       "3    Affluent Customer                  N      Yes       5   \n",
       "4    Affluent Customer                  N       No      19   \n",
       "..                 ...                ...      ...     ...   \n",
       "995  Affluent Customer                  N       No       9   \n",
       "996      Mass Customer                  N       No       6   \n",
       "997  Affluent Customer                  N      Yes      15   \n",
       "998      Mass Customer                  N      Yes      19   \n",
       "999      Mass Customer                  N      Yes      14   \n",
       "\n",
       "                      address  postcode state    country  property_valuation  \\\n",
       "0            45 Shopko Center      4500   QLD  Australia                   6   \n",
       "1           14 Mccormick Park      2113   NSW  Australia                  11   \n",
       "2         5 Colorado Crossing      3505   VIC  Australia                   5   \n",
       "3          207 Annamark Plaza      4814   QLD  Australia                   1   \n",
       "4           115 Montana Place      2093   NSW  Australia                   9   \n",
       "..                        ...       ...   ...        ...                 ...   \n",
       "995               2 Sloan Way      2200   NSW  Australia                   7   \n",
       "996         04 Union Crossing      2196   NSW  Australia                  10   \n",
       "997  33475 Fair Oaks Junction      4702   QLD  Australia                   2   \n",
       "998        57666 Victoria Way      4215   QLD  Australia                   2   \n",
       "999        21875 Grover Drive      2010   NSW  Australia                   9   \n",
       "\n",
       "     rank     value  new_id   Age  \n",
       "0       1  1.718750       0  65.0  \n",
       "1       1  1.718750       1  52.0  \n",
       "2       1  1.718750       2  48.0  \n",
       "3       4  1.703125       3  43.0  \n",
       "4       4  1.703125       4  57.0  \n",
       "..    ...       ...     ...   ...  \n",
       "995   996  0.374000     995  63.0  \n",
       "996   997  0.357000     996  21.0  \n",
       "997   997  0.357000     997  68.0  \n",
       "998   997  0.357000     998  70.0  \n",
       "999  1000  0.340000     999  67.0  \n",
       "\n",
       "[1000 rows x 20 columns]"
      ]
     },
     "execution_count": 160,
     "metadata": {},
     "output_type": "execute_result"
    }
   ],
   "source": [
    "df_newlist"
   ]
  },
  {
   "cell_type": "code",
   "execution_count": 162,
   "id": "3b330b2a",
   "metadata": {},
   "outputs": [],
   "source": [
    "df_newlist = df_newlist[df_newlist.Age < 100]"
   ]
  },
  {
   "cell_type": "code",
   "execution_count": 164,
   "id": "fe5a23e3",
   "metadata": {
    "scrolled": true
   },
   "outputs": [
    {
     "data": {
      "image/png": "[encoded data removed]",
      "text/plain": [
       "<Figure size 1080x576 with 1 Axes>"
      ]
     },
     "metadata": {
      "needs_background": "light"
     },
     "output_type": "display_data"
    }
   ],
   "source": [
    "df_newlist[\"Age\"].hist(bins=[0,24,44,64,100])\n",
    "plt.title('Age distribution histogram')\n",
    "plt.xlabel('Age')\n",
    "plt.ylabel('Frequency')\n",
    "plt.show()"
   ]
  },
  {
   "cell_type": "code",
   "execution_count": 165,
   "id": "13caf8f8",
   "metadata": {},
   "outputs": [
    {
     "name": "stderr",
     "output_type": "stream",
     "text": [
      "C:\\Users\\Shreya\\anaconda3\\lib\\site-packages\\seaborn\\_decorators.py:36: FutureWarning: Pass the following variable as a keyword arg: x. From version 0.12, the only valid positional argument will be `data`, and passing other arguments without an explicit keyword will result in an error or misinterpretation.\n",
      "  warnings.warn(\n"
     ]
    },
    {
     "data": {
      "text/plain": [
       "<AxesSubplot:xlabel='gender', ylabel='count'>"
      ]
     },
     "execution_count": 165,
     "metadata": {},
     "output_type": "execute_result"
    },
    {
     "data": {
      "image/png": "[encoded data removed]",
      "text/plain": [
       "<Figure size 1080x576 with 1 Axes>"
      ]
     },
     "metadata": {
      "needs_background": "light"
     },
     "output_type": "display_data"
    }
   ],
   "source": [
    "sns.countplot(df_newlist[\"gender\"])"
   ]
  },
  {
   "cell_type": "code",
   "execution_count": 166,
   "id": "8dd06fd7",
   "metadata": {
    "scrolled": true
   },
   "outputs": [
    {
     "name": "stderr",
     "output_type": "stream",
     "text": [
      "C:\\Users\\Shreya\\anaconda3\\lib\\site-packages\\seaborn\\_decorators.py:36: FutureWarning: Pass the following variable as a keyword arg: x. From version 0.12, the only valid positional argument will be `data`, and passing other arguments without an explicit keyword will result in an error or misinterpretation.\n",
      "  warnings.warn(\n"
     ]
    },
    {
     "data": {
      "text/plain": [
       "<AxesSubplot:xlabel='job_industry_category', ylabel='count'>"
      ]
     },
     "execution_count": 166,
     "metadata": {},
     "output_type": "execute_result"
    },
    {
     "data": {
      "image/png": "[encoded data removed]",
      "text/plain": [
       "<Figure size 1080x576 with 1 Axes>"
      ]
     },
     "metadata": {
      "needs_background": "light"
     },
     "output_type": "display_data"
    }
   ],
   "source": [
    "sns.countplot(df_newlist[\"job_industry_category\"])"
   ]
  },
  {
   "cell_type": "code",
   "execution_count": 167,
   "id": "03b6a7d0",
   "metadata": {
    "scrolled": true
   },
   "outputs": [
    {
     "name": "stderr",
     "output_type": "stream",
     "text": [
      "C:\\Users\\Shreya\\anaconda3\\lib\\site-packages\\seaborn\\_decorators.py:36: FutureWarning: Pass the following variable as a keyword arg: x. From version 0.12, the only valid positional argument will be `data`, and passing other arguments without an explicit keyword will result in an error or misinterpretation.\n",
      "  warnings.warn(\n"
     ]
    },
    {
     "data": {
      "text/plain": [
       "<AxesSubplot:xlabel='job_industry_category', ylabel='count'>"
      ]
     },
     "execution_count": 167,
     "metadata": {},
     "output_type": "execute_result"
    },
    {
     "data": {
      "image/png": "[encoded data removed]",
      "text/plain": [
       "<Figure size 1080x576 with 1 Axes>"
      ]
     },
     "metadata": {
      "needs_background": "light"
     },
     "output_type": "display_data"
    }
   ],
   "source": [
    "sns.countplot(df_newlist[\"job_industry_category\"], hue =df_newlist[\"gender\"] )"
   ]
  },
  {
   "cell_type": "code",
   "execution_count": 168,
   "id": "fe9c1188",
   "metadata": {
    "scrolled": true
   },
   "outputs": [
    {
     "name": "stderr",
     "output_type": "stream",
     "text": [
      "C:\\Users\\Shreya\\anaconda3\\lib\\site-packages\\seaborn\\_decorators.py:36: FutureWarning: Pass the following variable as a keyword arg: x. From version 0.12, the only valid positional argument will be `data`, and passing other arguments without an explicit keyword will result in an error or misinterpretation.\n",
      "  warnings.warn(\n"
     ]
    },
    {
     "data": {
      "text/plain": [
       "<AxesSubplot:xlabel='wealth_segment', ylabel='count'>"
      ]
     },
     "execution_count": 168,
     "metadata": {},
     "output_type": "execute_result"
    },
    {
     "data": {
      "image/png": "[encoded data removed]",
      "text/plain": [
       "<Figure size 1080x576 with 1 Axes>"
      ]
     },
     "metadata": {
      "needs_background": "light"
     },
     "output_type": "display_data"
    }
   ],
   "source": [
    "sns.countplot(df_newlist[\"wealth_segment\"])"
   ]
  },
  {
   "cell_type": "code",
   "execution_count": 169,
   "id": "ab33a610",
   "metadata": {},
   "outputs": [
    {
     "name": "stderr",
     "output_type": "stream",
     "text": [
      "C:\\Users\\Shreya\\anaconda3\\lib\\site-packages\\seaborn\\_decorators.py:36: FutureWarning: Pass the following variable as a keyword arg: x. From version 0.12, the only valid positional argument will be `data`, and passing other arguments without an explicit keyword will result in an error or misinterpretation.\n",
      "  warnings.warn(\n"
     ]
    },
    {
     "data": {
      "text/plain": [
       "<AxesSubplot:xlabel='gender', ylabel='count'>"
      ]
     },
     "execution_count": 169,
     "metadata": {},
     "output_type": "execute_result"
    },
    {
     "data": {
      "image/png": "[encoded data removed]",
      "text/plain": [
       "<Figure size 1080x576 with 1 Axes>"
      ]
     },
     "metadata": {
      "needs_background": "light"
     },
     "output_type": "display_data"
    }
   ],
   "source": [
    "sns.countplot(df_newlist[\"gender\"], hue =df_newlist[\"owns_car\"] )"
   ]
  },
  {
   "cell_type": "code",
   "execution_count": 170,
   "id": "dbbab23e",
   "metadata": {
    "scrolled": true
   },
   "outputs": [
    {
     "data": {
      "text/plain": [
       "Text(0.5, 1.0, 'Number bike purchased across gender')"
      ]
     },
     "execution_count": 170,
     "metadata": {},
     "output_type": "execute_result"
    },
    {
     "data": {
      "image/png": "[encoded data removed]",
      "text/plain": [
       "<Figure size 360x360 with 1 Axes>"
      ]
     },
     "metadata": {
      "needs_background": "light"
     },
     "output_type": "display_data"
    }
   ],
   "source": [
    "sns.catplot(data=df_newlist, x='gender', y='past_3_years_bike_related_purchases')\n",
    "plt.title('Number bike purchased across gender')"
   ]
  },
  {
   "cell_type": "code",
   "execution_count": 171,
   "id": "fea7c2d4",
   "metadata": {
    "scrolled": true
   },
   "outputs": [
    {
     "name": "stderr",
     "output_type": "stream",
     "text": [
      "C:\\Users\\Shreya\\anaconda3\\lib\\site-packages\\seaborn\\_decorators.py:36: FutureWarning: Pass the following variable as a keyword arg: x. From version 0.12, the only valid positional argument will be `data`, and passing other arguments without an explicit keyword will result in an error or misinterpretation.\n",
      "  warnings.warn(\n"
     ]
    },
    {
     "data": {
      "text/plain": [
       "<AxesSubplot:xlabel='gender', ylabel='count'>"
      ]
     },
     "execution_count": 171,
     "metadata": {},
     "output_type": "execute_result"
    },
    {
     "data": {
      "image/png": "[encoded data removed]",
      "text/plain": [
       "<Figure size 1080x576 with 1 Axes>"
      ]
     },
     "metadata": {
      "needs_background": "light"
     },
     "output_type": "display_data"
    }
   ],
   "source": [
    "sns.countplot(df_newlist[\"gender\"], hue =df_newlist[\"wealth_segment\"] )"
   ]
  },
  {
   "cell_type": "code",
   "execution_count": 174,
   "id": "da72c05c",
   "metadata": {},
   "outputs": [
    {
     "data": {
      "text/plain": [
       "Text(0.5, 1.0, 'Wealth Segment across age group')"
      ]
     },
     "execution_count": 174,
     "metadata": {},
     "output_type": "execute_result"
    },
    {
     "data": {
      "image/png": "[encoded data removed]",
      "text/plain": [
       "<Figure size 486.75x360 with 1 Axes>"
      ]
     },
     "metadata": {
      "needs_background": "light"
     },
     "output_type": "display_data"
    }
   ],
   "source": [
    "sns.displot(x='Age', binwidth=10, data=df_newlist, hue='wealth_segment')\n",
    "plt.title('Wealth Segment across age group')"
   ]
  },
  {
   "cell_type": "code",
   "execution_count": 176,
   "id": "e43a40c9",
   "metadata": {
    "scrolled": true
   },
   "outputs": [
    {
     "data": {
      "text/plain": [
       "Text(0.5, 1.0, 'Wealth Segment across state')"
      ]
     },
     "execution_count": 176,
     "metadata": {},
     "output_type": "execute_result"
    },
    {
     "data": {
      "image/png": "[encoded data removed]",
      "text/plain": [
       "<Figure size 1080x576 with 1 Axes>"
      ]
     },
     "metadata": {
      "needs_background": "light"
     },
     "output_type": "display_data"
    }
   ],
   "source": [
    "sns.countplot(x='state', data=df_newlist, hue='wealth_segment')\n",
    "plt.title('Wealth Segment across state')"
   ]
  },
  {
   "cell_type": "code",
   "execution_count": 178,
   "id": "4506a7af",
   "metadata": {
    "scrolled": true
   },
   "outputs": [
    {
     "data": {
      "text/plain": [
       "Text(0.5, 1.0, 'Job industry category across gender')"
      ]
     },
     "execution_count": 178,
     "metadata": {},
     "output_type": "execute_result"
    },
    {
     "data": {
      "image/png": "[encoded data removed]",
      "text/plain": [
       "<Figure size 1080x576 with 1 Axes>"
      ]
     },
     "metadata": {
      "needs_background": "light"
     },
     "output_type": "display_data"
    }
   ],
   "source": [
    "sns.countplot(x='gender', data=df_newlist, hue='job_industry_category', order = df_newlist['gender'].value_counts().index)\n",
    "plt.title('Job industry category across gender')"
   ]
  },
  {
   "cell_type": "code",
   "execution_count": 179,
   "id": "b9e3b4bf",
   "metadata": {
    "scrolled": true
   },
   "outputs": [
    {
     "data": {
      "text/plain": [
       "Text(0.5, 1.0, 'Number of people of different gender in different state')"
      ]
     },
     "execution_count": 179,
     "metadata": {},
     "output_type": "execute_result"
    },
    {
     "data": {
      "image/png": "[encoded data removed]",
      "text/plain": [
       "<Figure size 1080x576 with 1 Axes>"
      ]
     },
     "metadata": {
      "needs_background": "light"
     },
     "output_type": "display_data"
    }
   ],
   "source": [
    "sns.countplot(x='gender', data=df_newlist, hue='state')\n",
    "plt.title('Number of people of different gender in different state')"
   ]
  },
  {
   "cell_type": "code",
   "execution_count": 180,
   "id": "4ff6d452",
   "metadata": {
    "scrolled": true
   },
   "outputs": [
    {
     "data": {
      "text/plain": [
       "Text(0.5, 1.0, 'Number of people in different state')"
      ]
     },
     "execution_count": 180,
     "metadata": {},
     "output_type": "execute_result"
    },
    {
     "data": {
      "image/png": "[encoded data removed]",
      "text/plain": [
       "<Figure size 1080x576 with 1 Axes>"
      ]
     },
     "metadata": {
      "needs_background": "light"
     },
     "output_type": "display_data"
    }
   ],
   "source": [
    "sns.countplot(x = 'state', data = df_newlist, hue = 'gender')\n",
    "plt.title('Number of people in different state')"
   ]
  },
  {
   "cell_type": "code",
   "execution_count": 181,
   "id": "6dba2761",
   "metadata": {},
   "outputs": [
    {
     "data": {
      "text/plain": [
       "Text(0.5, 1.0, 'Boxplot showing the age range of customers')"
      ]
     },
     "execution_count": 181,
     "metadata": {},
     "output_type": "execute_result"
    },
    {
     "data": {
      "image/png": "[encoded data removed]",
      "text/plain": [
       "<Figure size 1080x576 with 1 Axes>"
      ]
     },
     "metadata": {
      "needs_background": "light"
     },
     "output_type": "display_data"
    }
   ],
   "source": [
    "sns.boxplot(x = df_newlist['gender'], y = df_newlist['Age'])\n",
    "plt.title('Boxplot showing the age range of customers')"
   ]
  },
  {
   "cell_type": "code",
   "execution_count": 182,
   "id": "570ae029",
   "metadata": {},
   "outputs": [],
   "source": [
    "#print the final file to excel ready to be used as a data source for dashboard\n",
    "df.to_excel('D:/KPMG virtual intership/current_customers.xlsx', sheet_name='123', index=False)\n",
    "df_newlist.to_excel('D:/KPMG virtual intership/target_new_customers.xlsx', sheet_name='4', index=False)"
   ]
  }
 ],
 "metadata": {
  "kernelspec": {
   "display_name": "Python 3",
   "language": "python",
   "name": "python3"
  },
  "language_info": {
   "codemirror_mode": {
    "name": "ipython",
    "version": 3
   },
   "file_extension": ".py",
   "mimetype": "text/x-python",
   "name": "python",
   "nbconvert_exporter": "python",
   "pygments_lexer": "ipython3",
   "version": "3.8.8"
  }
 },
 "nbformat": 4,
 "nbformat_minor": 5
}
